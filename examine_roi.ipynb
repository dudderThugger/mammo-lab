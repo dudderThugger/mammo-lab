{
 "cells": [
  {
   "cell_type": "markdown",
   "id": "8933cfcb-c5df-4745-82ce-9136a6ed3443",
   "metadata": {},
   "source": [
    "# Examining ROI for images with tumours"
   ]
  },
  {
   "cell_type": "code",
   "execution_count": 1,
   "id": "e4603429-c99d-4ee7-98ff-ff250eb5bb08",
   "metadata": {},
   "outputs": [],
   "source": [
    "import pandas as pd\n",
    "import numpy as np\n",
    "import matplotlib.pyplot as plt\n",
    "import matplotlib.patches as patches\n",
    "from PIL import Image\n",
    "import ipywidgets as widgets\n",
    "from IPython.display import display\n",
    "\n",
    "data_path = '/home/szelesteya/projects/EMBED_Open_Data/'\n",
    "image_root_path = '/media/szelesteya/F824D4D024D492CC/EMBED-images/'\n",
    "image_figure_path = image_root_path + 'extract'\n",
    "\n",
    "calc_findings = pd.read_csv(data_path + 'positive_empirical_png.csv')"
   ]
  },
  {
   "cell_type": "code",
   "execution_count": 2,
   "id": "9ce051ea-536f-4ac2-b813-31debbc13e16",
   "metadata": {},
   "outputs": [],
   "source": [
    "def parse_ROI(roi_coords_row):\n",
    "    roi_coords_array = roi_coords_row[2:-1].split('(')\n",
    "    roi_rects = []\n",
    "    \n",
    "    for i in range(len(roi_coords_array)):\n",
    "        roi_coords_str = roi_coords_array[i].split(')')[0].replace(\" \",\"\").split(',')\n",
    "        if \"\" not in roi_coords_str:\n",
    "            try:\n",
    "                roi_coords = [eval(j.replace('[', '').replace(']','')) for j in roi_coords_str]\n",
    "    \n",
    "                x_min = roi_coords[1]\n",
    "                y_min = roi_coords[0]\n",
    "                x_max = roi_coords[3]\n",
    "                y_max = roi_coords[2]\n",
    "                \n",
    "                roi_rects.append([x_min, y_min, x_max, y_max])\n",
    "            except SyntaxError:\n",
    "                print(roi_coords_str)\n",
    "\n",
    "    return roi_rects"
   ]
  },
  {
   "cell_type": "code",
   "execution_count": 3,
   "id": "4c640003-5ee8-4e35-8283-0903f2f1490e",
   "metadata": {},
   "outputs": [],
   "source": [
    "def showcase_ROI(calcfinding_row, save):\n",
    "    image = Image.open(calcfinding_row['png_path'])\n",
    "    image_array = np.array(image)\n",
    "        \n",
    "    path = (image_figure_path + '/' + '.'.join(calcfinding_row['relative_dcm_path'].split('/')))[:-4]\n",
    "    side = calcfinding_row['side']\n",
    "    # path = calcfinding_row['resized_path']\n",
    "    \n",
    "    only_ROI_arrays = []\n",
    "    print(calcfinding_row[['side','calc_find','calc_distrib','num_find','asses']])\n",
    "    \n",
    "    # Coordinate(s) of any detected ROI on the image, represented as a list of lists. \n",
    "    # Sublists contains corner coordinates for ROI in the format ‘ymin, xmin, ymax, xmax’.\n",
    "    roi_coords_array = parse_ROI(calcfinding_row['ROI_coords'])\n",
    "\n",
    "    aspect_ratio = image_array.shape[1] / image_array.shape[0]\n",
    "    fig_all, axis_all = plt.subplots(figsize=(4*aspect_ratio, 4))\n",
    "    axis_all.imshow(image_array, cmap='gray')\n",
    "    \n",
    "    for roi in roi_coords_array:\n",
    "        x_min = roi[0]\n",
    "        x_max = roi[2]\n",
    "        y_min = roi[1]\n",
    "        y_max = roi[3]\n",
    "        if side == 'R':\n",
    "            width = image_array.shape[1]\n",
    "            x_min = width - roi[2]\n",
    "            x_max = width - roi[0]\n",
    "            print(f\"{x_min} {x_max}\")\n",
    "        rectangle = patches.Rectangle((x_min, y_min), x_max - x_min, y_max - y_min, linewidth=1, edgecolor='r', facecolor='none')\n",
    "        axis_all.add_patch(rectangle)\n",
    "        \n",
    "        only_ROI_arrays.append(image_array[y_min:y_max, x_min:x_max])\n",
    "\n",
    "    axis_all.set_aspect('equal', adjustable='datalim')\n",
    "    plt.axis('off')\n",
    "    if save:\n",
    "        plt.savefig(path + '_all.png', bbox_inches='tight', pad_inches=0, dpi=300)\n",
    "    else:\n",
    "        plt.imshow(image_array, cmap='gray')\n",
    "\n",
    "    fig, axs = plt.subplots(1, len(only_ROI_arrays), figsize=(15, 5))\n",
    "    for i in range(len(roi_coords_array)):\n",
    "        if len(roi_coords_array) > 1:\n",
    "            axs[i].axis('off')\n",
    "            axs[i].imshow(only_ROI_arrays[i], cmap='gray')\n",
    "        else:\n",
    "            axs.axis('off')\n",
    "            axs.imshow(only_ROI_arrays[i], cmap='gray')\n",
    "        \n",
    "    if save:\n",
    "        fig.savefig(path + '_rois.png',  bbox_inches='tight', pad_inches=0, dpi=300)"
   ]
  },
  {
   "cell_type": "code",
   "execution_count": 4,
   "id": "dc31a930-2d0d-4b15-9082-071bd522bd74",
   "metadata": {},
   "outputs": [],
   "source": [
    "value = 0\n",
    "\n",
    "def on_value_change(num):\n",
    "    global value\n",
    "    value = num\n",
    "    showcase_ROI(calc_findings.loc[value,:], False)        \n",
    "    #print(calc_findings.loc[value,:])\n",
    "\n",
    "def save_figure(b):\n",
    "    global value\n",
    "    with button_output:\n",
    "        showcase_ROI(calc_findings.loc[value,:], True)"
   ]
  },
  {
   "cell_type": "code",
   "execution_count": 5,
   "id": "6ced9298-dfb7-4695-b9d6-a49abd36bd69",
   "metadata": {},
   "outputs": [
    {
     "data": {
      "application/vnd.jupyter.widget-view+json": {
       "model_id": "2dacbfa6bf6a499ba7a69967f66a6921",
       "version_major": 2,
       "version_minor": 0
      },
      "text/plain": [
       "IntSlider(value=1, description='Number:', max=597, min=1)"
      ]
     },
     "metadata": {},
     "output_type": "display_data"
    },
    {
     "data": {
      "application/vnd.jupyter.widget-view+json": {
       "model_id": "2727d315138c4ec0abeff06e61f24951",
       "version_major": 2,
       "version_minor": 0
      },
      "text/plain": [
       "Output()"
      ]
     },
     "metadata": {},
     "output_type": "display_data"
    },
    {
     "data": {
      "application/vnd.jupyter.widget-view+json": {
       "model_id": "0e49db63e890441e9fcb510eedd91b57",
       "version_major": 2,
       "version_minor": 0
      },
      "text/plain": [
       "Button(description='Save figures', style=ButtonStyle())"
      ]
     },
     "metadata": {},
     "output_type": "display_data"
    },
    {
     "data": {
      "application/vnd.jupyter.widget-view+json": {
       "model_id": "ad1d1c60b9fb4d43a87060311df81fa4",
       "version_major": 2,
       "version_minor": 0
      },
      "text/plain": [
       "Output()"
      ]
     },
     "metadata": {},
     "output_type": "display_data"
    }
   ],
   "source": [
    "# Create a slider for input\n",
    "number_slider = widgets.IntSlider(value=1, min=1, max=len(calc_findings), description='Number:')\n",
    "\n",
    "button_save = widgets.Button(description=\"Save figures\")\n",
    "button_save.on_click(save_figure)\n",
    "\n",
    "button_output = widgets.Output()\n",
    "\n",
    "# Create an interactive output that updates when the slider value changes\n",
    "slider_output = widgets.interactive_output(on_value_change, {'num': number_slider})\n",
    "\n",
    "# Display the slider and the output\n",
    "display(number_slider, slider_output)\n",
    "display(button_save, button_output)"
   ]
  },
  {
   "cell_type": "code",
   "execution_count": null,
   "id": "35af08e1-c77b-4683-86a4-35fc218fde5b",
   "metadata": {},
   "outputs": [],
   "source": []
  }
 ],
 "metadata": {
  "kernelspec": {
   "display_name": "Python 3 (ipykernel)",
   "language": "python",
   "name": "python3"
  },
  "language_info": {
   "codemirror_mode": {
    "name": "ipython",
    "version": 3
   },
   "file_extension": ".py",
   "mimetype": "text/x-python",
   "name": "python",
   "nbconvert_exporter": "python",
   "pygments_lexer": "ipython3",
   "version": "3.10.12"
  }
 },
 "nbformat": 4,
 "nbformat_minor": 5
}
