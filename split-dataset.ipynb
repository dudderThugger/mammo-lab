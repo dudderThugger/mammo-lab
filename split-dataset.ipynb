{
 "cells": [
  {
   "cell_type": "code",
   "execution_count": 1,
   "metadata": {},
   "source": [
    "import pandas as pd\n",
    "import numpy as np\n",
    "import sklearn as sk\n",
    "import matplotlib.pyplot as plt\n",
    "import shutil\n",
    "import re"
   ],
   "outputs": []
  },
  {
   "cell_type": "code",
   "execution_count": 3,
   "metadata": {},
   "source": [
    "negativeimg = pd.read_csv('/home/szelesteya/projects/laboratory-mammography/neg_training.csv')\n",
    "positiveimg = pd.read_csv('/home/szelesteya/projects/laboratory-mammography/pos_training.csv')\n",
    "\n",
    "negativeimg = sk.utils.shuffle(negativeimg, random_state=5)[['calc_find','crop_path','asses','negative_index','label_0']]\n",
    "positiveimg = sk.utils.shuffle(positiveimg, random_state=5)[['calc_find','crop_path','asses','calc_finding_index','label_0']]"
   ],
   "outputs": []
  },
  {
   "cell_type": "code",
   "execution_count": 4,
   "metadata": {},
   "source": [
    "neg_train, neg_validation, neg_test = np.split(negativeimg, [round(0.8 * len(negativeimg)), round(0.9 * len(negativeimg))])\n",
    "pos_train, pos_validation, pos_test = np.split(positiveimg, [round(0.8 * len(positiveimg)), round(0.9 * len(positiveimg))])"
   ],
   "outputs": []
  },
  {
   "cell_type": "code",
   "execution_count": 10,
   "metadata": {},
   "source": [],
   "outputs": []
  },
  {
   "cell_type": "code",
   "execution_count": 11,
   "metadata": {},
   "source": [
    "with open('/media/szelesteya/F824D4D024D492CC/EMBED-images/splited-croped/tables/neg_train.csv','w') as f:\n",
    "    neg_train.to_csv(f)\n",
    "\n",
    "with open('/media/szelesteya/F824D4D024D492CC/EMBED-images/splited-croped/tables/neg_validation.csv','w') as f:\n",
    "    neg_validation.to_csv(f)\n",
    "\n",
    "with open('/media/szelesteya/F824D4D024D492CC/EMBED-images/splited-croped/tables/neg_test.csv','w') as f:\n",
    "    neg_test.to_csv(f)\n",
    "\n",
    "with open('/media/szelesteya/F824D4D024D492CC/EMBED-images/splited-croped/tables/pos_train.csv','w') as f:\n",
    "    pos_train.to_csv(f)\n",
    "\n",
    "with open('/media/szelesteya/F824D4D024D492CC/EMBED-images/splited-croped/tables/pos_validation.csv','w') as f:\n",
    "    pos_validation.to_csv(f)\n",
    "\n",
    "with open('/media/szelesteya/F824D4D024D492CC/EMBED-images/splited-croped/tables/pos_test.csv','w') as f:\n",
    "    pos_test.to_csv(f)"
   ],
   "outputs": []
  },
  {
   "cell_type": "code",
   "execution_count": 15,
   "metadata": {},
   "source": [
    "for i,row in neg_train.iterrows():\n",
    "    train_path = re.sub(r\"\\/training\\/(positive|negative)\", \"/splited-croped/train/negative\", row['crop_path'])\n",
    "    try:\n",
    "        shutil.copyfile(f\"{row['crop_path']}\", train_path)\n",
    "    except FileNotFoundError:\n",
    "        shutil.copyfile(f\"{row['crop_path']}\", f\"{train_path}\")\n",
    "\n",
    "for i,row in pos_train.iterrows():\n",
    "    train_path = re.sub(r\"\\/training\\/(positive|negative)\", \"/splited-croped/train/positive\", row['crop_path'])\n",
    "    try:\n",
    "        shutil.copyfile(f\"{row['crop_path']}\", train_path)\n",
    "    except FileNotFoundError:\n",
    "        shutil.copyfile(f\"{row['crop_path']}\", f\"{train_path}\")\n",
    "\n",
    "for i,row in neg_validation.iterrows():\n",
    "    print(row['crop_path'])\n",
    "    train_path = re.sub(r\"\\/training\\/(positive|negative)\", \"/splited-croped/validation/negative\", row['crop_path'])\n",
    "    try:\n",
    "        shutil.copyfile(f\"{row['crop_path']}\", train_path)\n",
    "    except FileNotFoundError:\n",
    "        shutil.copyfile(f\"{row['crop_path']}\", f\"{train_path}\")\n",
    "\n",
    "\n",
    "for i,row in pos_validation.iterrows():\n",
    "    train_path = re.sub(r\"\\/training\\/(positive|negative)\", \"/splited-croped/validation/positive\", row['crop_path'])\n",
    "    try:\n",
    "        shutil.copyfile(f\"{row['crop_path']}\", train_path)\n",
    "    except FileNotFoundError:\n",
    "        shutil.copyfile(f\"{row['crop_path']}\", f\"{train_path}\")\n",
    "\n",
    "for i,row in neg_test.iterrows():\n",
    "    train_path = re.sub(r\"\\/training\\/(positive|negative)\", \"/splited-croped/test/negative\", row['crop_path'])\n",
    "    try:\n",
    "        shutil.copyfile(f\"{row['crop_path']}\", train_path)\n",
    "    except FileNotFoundError:\n",
    "        shutil.copyfile(f\"{row['crop_path']}\", f\"{train_path}\")\n",
    "\n",
    "for i,row in pos_test.iterrows():\n",
    "    train_path = re.sub(r\"\\/training\\/(positive|negative)\", \"/splited-croped/test/positive\", row['crop_path'])\n",
    "    try:\n",
    "        shutil.copyfile(f\"{row['crop_path']}\", train_path)\n",
    "    except FileNotFoundError:\n",
    "        shutil.copyfile(f\"{row['crop_path']}\", f\"{train_path}\")"
   ],
   "outputs": []
  },
  {
   "cell_type": "code",
   "execution_count": 83,
   "metadata": {},
   "source": [
    "for i,row in validation.iterrows():\n",
    "    validation_path = re.sub(r\"\\/training\\/(positive|negative)\", \"/splited-croped/validation\", row['crop_path'])\n",
    "    try:\n",
    "        shutil.copyfile(fneg_\"{row['crop_path']}\", validation_path)\n",
    "    except FileNotFoundError:\n",
    "        shutil.copyfile(f\"{row['crop_path']}.png\", f\"{validation_path}.png\")\n"
   ],
   "outputs": []
  },
  {
   "cell_type": "code",
   "execution_count": 84,
   "metadata": {},
   "source": [
    "for i,row in test.iterrows():\n",
    "    test_path = re.sub(r\"\\/training\\/(positive|negative)\", \"/splited-croped/test\", row['crop_path'])\n",
    "    try:\n",
    "        shutil.copyfile(f\"{row['crop_path']}\", test_path)\n",
    "    except FileNotFoundError:\n",
    "        shutil.copyfile(f\"{row['crop_path']}.png\", f\"{test_path}.png\")"
   ],
   "outputs": []
  },
  {
   "cell_type": "code",
   "execution_count": 91,
   "metadata": {},
   "source": [
    "plt.hist(train['label_0'])"
   ],
   "outputs": []
  },
  {
   "cell_type": "code",
   "execution_count": 64,
   "metadata": {},
   "source": [
    "\n",
    "re.sub(r\"\\/training\\/(positive|negative)\", \"/splited-croped/train\",'/media/szelesteya/F824D4D024D492CC/EMBED-images/training/positive/207_pos')"
   ],
   "outputs": []
  },
  {
   "cell_type": "code",
   "execution_count": null,
   "metadata": {},
   "source": [],
   "outputs": []
  }
 ],
 "metadata": {
  "kernelspec": {
   "display_name": "Python 3",
   "language": "python",
   "name": "python3"
  },
  "language_info": {
   "codemirror_mode": {
    "name": "ipython",
    "version": 3
   },
   "file_extension": ".py",
   "mimetype": "text/x-python",
   "name": "python",
   "nbconvert_exporter": "python",
   "pygments_lexer": "ipython3",
   "version": "3.10.12"
  }
 },
 "nbformat": 4,
 "nbformat_minor": 2
}
