{
 "cells": [
  {
   "cell_type": "code",
   "id": "initial_id",
   "metadata": {
    "collapsed": true,
    "ExecuteTime": {
     "end_time": "2024-05-30T12:37:50.222529Z",
     "start_time": "2024-05-30T12:37:46.982986Z"
    }
   },
   "source": [
    "import pandas as pd\n",
    "import tensorflow as tf\n",
    "import os\n",
    "import numpy as np\n",
    "import matplotlib.pyplot as plt\n",
    "from PIL import Image\n",
    "from tensorflow.keras.applications.resnet50 import preprocess_input\n",
    "from tensorflow.keras import metrics\n",
    "import pandas as pd"
   ],
   "outputs": [
    {
     "name": "stderr",
     "output_type": "stream",
     "text": [
      "2024-05-30 14:37:47.518300: I tensorflow/core/platform/cpu_feature_guard.cc:193] This TensorFlow binary is optimized with oneAPI Deep Neural Network Library (oneDNN) to use the following CPU instructions in performance-critical operations:  AVX2 FMA\n",
      "To enable them in other operations, rebuild TensorFlow with the appropriate compiler flags.\n",
      "2024-05-30 14:37:48.683385: W tensorflow/compiler/xla/stream_executor/platform/default/dso_loader.cc:64] Could not load dynamic library 'libnvinfer.so.7'; dlerror: libnvinfer.so.7: cannot open shared object file: No such file or directory; LD_LIBRARY_PATH: :/home/dudder/miniconda3/envs/tf/lib/\n",
      "2024-05-30 14:37:48.686006: W tensorflow/compiler/xla/stream_executor/platform/default/dso_loader.cc:64] Could not load dynamic library 'libnvinfer_plugin.so.7'; dlerror: libnvinfer_plugin.so.7: cannot open shared object file: No such file or directory; LD_LIBRARY_PATH: :/home/dudder/miniconda3/envs/tf/lib/\n",
      "2024-05-30 14:37:48.686022: W tensorflow/compiler/tf2tensorrt/utils/py_utils.cc:38] TF-TRT Warning: Cannot dlopen some TensorRT libraries. If you would like to use Nvidia GPU with TensorRT, please make sure the missing libraries mentioned above are installed properly.\n"
     ]
    }
   ],
   "execution_count": 1
  },
  {
   "metadata": {
    "ExecuteTime": {
     "end_time": "2024-05-30T12:39:31.981546Z",
     "start_time": "2024-05-30T12:39:23.558179Z"
    }
   },
   "cell_type": "code",
   "source": [
    "model_name = 'resnet50_with_batch_norm_extendedV3'\n",
    "\n",
    "model = tf.keras.models.load_model(f\"/mnt/d/datasets/INBREAST/results/{model_name}.keras\")"
   ],
   "id": "868c544d56ed7cb3",
   "outputs": [
    {
     "name": "stderr",
     "output_type": "stream",
     "text": [
      "2024-05-30 14:39:26.064336: I tensorflow/compiler/xla/stream_executor/cuda/cuda_gpu_executor.cc:967] could not open file to read NUMA node: /sys/bus/pci/devices/0000:01:00.0/numa_node\n",
      "Your kernel may have been built without NUMA support.\n",
      "2024-05-30 14:39:26.094385: I tensorflow/compiler/xla/stream_executor/cuda/cuda_gpu_executor.cc:967] could not open file to read NUMA node: /sys/bus/pci/devices/0000:01:00.0/numa_node\n",
      "Your kernel may have been built without NUMA support.\n",
      "2024-05-30 14:39:26.094846: I tensorflow/compiler/xla/stream_executor/cuda/cuda_gpu_executor.cc:967] could not open file to read NUMA node: /sys/bus/pci/devices/0000:01:00.0/numa_node\n",
      "Your kernel may have been built without NUMA support.\n",
      "2024-05-30 14:39:26.096248: I tensorflow/core/platform/cpu_feature_guard.cc:193] This TensorFlow binary is optimized with oneAPI Deep Neural Network Library (oneDNN) to use the following CPU instructions in performance-critical operations:  AVX2 FMA\n",
      "To enable them in other operations, rebuild TensorFlow with the appropriate compiler flags.\n",
      "2024-05-30 14:39:26.097399: I tensorflow/compiler/xla/stream_executor/cuda/cuda_gpu_executor.cc:967] could not open file to read NUMA node: /sys/bus/pci/devices/0000:01:00.0/numa_node\n",
      "Your kernel may have been built without NUMA support.\n",
      "2024-05-30 14:39:26.097901: I tensorflow/compiler/xla/stream_executor/cuda/cuda_gpu_executor.cc:967] could not open file to read NUMA node: /sys/bus/pci/devices/0000:01:00.0/numa_node\n",
      "Your kernel may have been built without NUMA support.\n",
      "2024-05-30 14:39:26.098280: I tensorflow/compiler/xla/stream_executor/cuda/cuda_gpu_executor.cc:967] could not open file to read NUMA node: /sys/bus/pci/devices/0000:01:00.0/numa_node\n",
      "Your kernel may have been built without NUMA support.\n",
      "2024-05-30 14:39:27.110043: I tensorflow/compiler/xla/stream_executor/cuda/cuda_gpu_executor.cc:967] could not open file to read NUMA node: /sys/bus/pci/devices/0000:01:00.0/numa_node\n",
      "Your kernel may have been built without NUMA support.\n",
      "2024-05-30 14:39:27.110512: I tensorflow/compiler/xla/stream_executor/cuda/cuda_gpu_executor.cc:967] could not open file to read NUMA node: /sys/bus/pci/devices/0000:01:00.0/numa_node\n",
      "Your kernel may have been built without NUMA support.\n",
      "2024-05-30 14:39:27.110535: I tensorflow/core/common_runtime/gpu/gpu_device.cc:1700] Could not identify NUMA node of platform GPU id 0, defaulting to 0.  Your kernel may not have been built with NUMA support.\n",
      "2024-05-30 14:39:27.112720: I tensorflow/compiler/xla/stream_executor/cuda/cuda_gpu_executor.cc:967] could not open file to read NUMA node: /sys/bus/pci/devices/0000:01:00.0/numa_node\n",
      "Your kernel may have been built without NUMA support.\n",
      "2024-05-30 14:39:27.112820: I tensorflow/core/common_runtime/gpu/gpu_device.cc:1613] Created device /job:localhost/replica:0/task:0/device:GPU:0 with 2731 MB memory:  -> device: 0, name: NVIDIA GeForce GTX 1050 Ti, pci bus id: 0000:01:00.0, compute capability: 6.1\n"
     ]
    }
   ],
   "execution_count": 3
  },
  {
   "metadata": {
    "ExecuteTime": {
     "end_time": "2024-05-27T08:05:19.952520Z",
     "start_time": "2024-05-27T08:05:10.979888Z"
    }
   },
   "cell_type": "code",
   "source": [
    "lr = 0.0004\n",
    "cutoff = 0.5\n",
    "im_dim_x = 224\n",
    "im_dim_y = 224\n",
    "mirrored_strategy = tf.distribute.MirroredStrategy()\n",
    "\n",
    "with mirrored_strategy.scope():  # the entire model needs to be compiled within the scope of the distribution strategy\n",
    "    # cb1 = EarlyStopping(monitor='val_accuracy', patience=4)  # define early stopping callback function\n",
    "    cb1 = tf.keras.callbacks.ModelCheckpoint(f\"/mnt/d/datasets/INBREAST/results/{model_name}.h5\", monitor=\"val_loss\", verbose=2, save_best_only=True, mode=\"min\")\n",
    "    # cb2 = ReduceLROnPlateau(monitor='val_accuracy', factor=0.2, patience=2,\n",
    "    #                         min_lr=0.00001)  # define LR reduction callback function\n",
    "    opt = tf.keras.optimizers.Adam(learning_rate=lr)\n",
    "    metr = [metrics.BinaryAccuracy(name='accuracy', threshold=cutoff), metrics.AUC(name='auc'),\n",
    "            metrics.Precision(name='precision'),\n",
    "            metrics.Recall(name='recall')]\n",
    "    #                 tfa.metrics.F1Score(name='f1_score')]\n",
    "    ptmodel = tf.keras.applications.ResNet50V2(include_top=False, weights='imagenet', classes=2, input_shape=(im_dim_x, im_dim_y, 3),\n",
    "                         pooling='avg')  # compile resnet152v2 with imagenet weights\n",
    "    ptmodel.trainable = False  # freeze layers\n",
    "    ptmodel.layers[-1].trainable = True\n",
    "\n",
    "\n",
    "    # un-freeze the BatchNorm layers\n",
    "    # for layer in ptmodel.layers:\n",
    "    #     if \"BatchNormalization\" in layer.__class__.__name__:\n",
    "    #         layer.trainable = False # ??\n",
    "\n",
    "    last_output = ptmodel.output\n",
    "    x = tf.keras.layers.Flatten()(last_output)\n",
    "    # x = tf.keras.layers.Dense(2048, activation='relu')(x)\n",
    "    # #     x = tf.keras.layers.Dropout(0.15)(x)\n",
    "    # x = tf.keras.layers.Dense(1024, activation='relu')(x)\n",
    "    # #    x = tf.keras.layers.Dropout(0.3)(x)\n",
    "    x = tf.keras.layers.Dense(512, activation='relu')(x)\n",
    "    x = tf.keras.layers.Dense(128, activation='relu')(x)\n",
    "    x = tf.keras.layers.Dense(32, activation='relu')(x)\n",
    "    # # x = tf.keras.layers.Dropout(0.5, seed=34)(x)\n",
    "    # x = tf.keras.layers.Dense(64, activation = 'relu')(x)\n",
    "    x = tf.keras.layers.Dense(1, activation='sigmoid')(x)\n",
    "    model = tf.keras.Model(ptmodel.input, x)\n",
    "    model.compile(optimizer=opt,\n",
    "                  loss='BinaryCrossentropy',\n",
    "                  metrics=metr)\n",
    "    \n",
    "# Load the model weights\n",
    "model.load_weights(f'{model_name}_weights.h5')"
   ],
   "id": "1bcb4b45aac0d132",
   "outputs": [
    {
     "name": "stdout",
     "output_type": "stream",
     "text": [
      "INFO:tensorflow:Using MirroredStrategy with devices ('/job:localhost/replica:0/task:0/device:GPU:0',)\n"
     ]
    }
   ],
   "execution_count": 16
  },
  {
   "metadata": {
    "ExecuteTime": {
     "end_time": "2024-05-27T08:11:00.594536Z",
     "start_time": "2024-05-27T08:10:34.569228Z"
    }
   },
   "cell_type": "code",
   "source": "model = tf.keras.models.load_model(f\"/mnt/d/datasets/INBREAST/results/{model_name}.keras\")",
   "id": "b979d15028066cc5",
   "outputs": [],
   "execution_count": 19
  },
  {
   "metadata": {
    "ExecuteTime": {
     "end_time": "2024-05-27T07:38:50.492115Z",
     "start_time": "2024-05-27T07:38:50.485564Z"
    }
   },
   "cell_type": "code",
   "source": [
    "# Check CUDA functionality, restart kernel to change GPUs\n",
    "gpus = tf.config.list_physical_devices('GPU')\n",
    "print(\"*************************************\")\n",
    "print(gpus)\n",
    "print(\"*************************************\")\n",
    "\n",
    "cutoff = 0.5\n",
    "img_height = 224\n",
    "img_width = 224\n",
    "batch_size = 6\n",
    "\n",
    "# setup train, validation, and test folders\n",
    "traindir = '/mnt/d/datasets/INBREAST/split/train'\n",
    "valdir = '/mnt/d/datasets/INBREAST/split/validation'\n",
    "testdir = '/mnt/d/datasets/INBREAST/split/test'\n",
    "dirName = '2_classes'"
   ],
   "id": "87225af4717fc181",
   "outputs": [
    {
     "name": "stdout",
     "output_type": "stream",
     "text": [
      "*************************************\n",
      "[PhysicalDevice(name='/physical_device:GPU:0', device_type='GPU')]\n",
      "*************************************\n"
     ]
    }
   ],
   "execution_count": 12
  },
  {
   "metadata": {
    "ExecuteTime": {
     "end_time": "2024-05-30T12:44:40.146885Z",
     "start_time": "2024-05-30T12:44:31.887799Z"
    }
   },
   "cell_type": "code",
   "source": [
    "# Define function to preprocess images as required by ResNet\n",
    "def preprocess(images, labels):\n",
    "    return tf.keras.applications.resnet_v2.preprocess_input(images), labels\n",
    "\n",
    "testdir = '/mnt/d/datasets/INBREAST/split/test'\n",
    "test = tf.keras.preprocessing.image_dataset_from_directory(\n",
    "    testdir, labels='inferred', image_size=(224, 224), batch_size=32)\n",
    "test_ds = test.map(preprocess)\n",
    "\n",
    "true_classes = []\n",
    "predicted_probs = []\n",
    "\n",
    "for images, labels in test_ds:\n",
    "    predicted_prob = model(images).numpy()\n",
    "    true_class = labels.numpy()\n",
    "    \n",
    "    predicted_probs.extend(predicted_prob)\n",
    "    true_classes.extend(true_class)\n",
    "   \n"
   ],
   "id": "943c92b68583a218",
   "outputs": [
    {
     "name": "stdout",
     "output_type": "stream",
     "text": [
      "Found 492 files belonging to 2 classes.\n"
     ]
    },
    {
     "ename": "AttributeError",
     "evalue": "'list' object has no attribute 'numpy'",
     "output_type": "error",
     "traceback": [
      "\u001B[0;31m---------------------------------------------------------------------------\u001B[0m",
      "\u001B[0;31mAttributeError\u001B[0m                            Traceback (most recent call last)",
      "Cell \u001B[0;32mIn[6], line 20\u001B[0m\n\u001B[1;32m     17\u001B[0m     predicted_probs\u001B[38;5;241m.\u001B[39mextend(predicted_prob)\n\u001B[1;32m     18\u001B[0m     true_classes\u001B[38;5;241m.\u001B[39mextend(true_class)\n\u001B[0;32m---> 20\u001B[0m \u001B[38;5;28mprint\u001B[39m(\u001B[43mpredicted_probs\u001B[49m\u001B[38;5;241;43m.\u001B[39;49m\u001B[43mnumpy\u001B[49m())\n\u001B[1;32m     21\u001B[0m true_classes\n",
      "\u001B[0;31mAttributeError\u001B[0m: 'list' object has no attribute 'numpy'"
     ]
    }
   ],
   "execution_count": 6
  },
  {
   "metadata": {
    "ExecuteTime": {
     "end_time": "2024-05-30T12:50:39.089028Z",
     "start_time": "2024-05-30T12:50:39.014141Z"
    }
   },
   "cell_type": "code",
   "source": [
    "predicted_probs_list = [ elem[0] for elem in predicted_probs ]\n",
    "predicted_probs"
   ],
   "id": "ecfed5dfc65acd6f",
   "outputs": [
    {
     "ename": "IndexError",
     "evalue": "invalid index to scalar variable.",
     "output_type": "error",
     "traceback": [
      "\u001B[0;31m---------------------------------------------------------------------------\u001B[0m",
      "\u001B[0;31mIndexError\u001B[0m                                Traceback (most recent call last)",
      "Cell \u001B[0;32mIn[19], line 1\u001B[0m\n\u001B[0;32m----> 1\u001B[0m predicted_probs \u001B[38;5;241m=\u001B[39m [ elem[\u001B[38;5;241m0\u001B[39m] \u001B[38;5;28;01mfor\u001B[39;00m elem \u001B[38;5;129;01min\u001B[39;00m predicted_probs ]\n\u001B[1;32m      2\u001B[0m predicted_probs\n",
      "Cell \u001B[0;32mIn[19], line 1\u001B[0m, in \u001B[0;36m<listcomp>\u001B[0;34m(.0)\u001B[0m\n\u001B[0;32m----> 1\u001B[0m predicted_probs \u001B[38;5;241m=\u001B[39m [ \u001B[43melem\u001B[49m\u001B[43m[\u001B[49m\u001B[38;5;241;43m0\u001B[39;49m\u001B[43m]\u001B[49m \u001B[38;5;28;01mfor\u001B[39;00m elem \u001B[38;5;129;01min\u001B[39;00m predicted_probs ]\n\u001B[1;32m      2\u001B[0m predicted_probs\n",
      "\u001B[0;31mIndexError\u001B[0m: invalid index to scalar variable."
     ]
    }
   ],
   "execution_count": 19
  },
  {
   "metadata": {
    "ExecuteTime": {
     "end_time": "2024-05-30T12:53:38.933294Z",
     "start_time": "2024-05-30T12:53:38.928545Z"
    }
   },
   "cell_type": "code",
   "source": "print(np.sum(np.array(predicted_probs) < 0))",
   "id": "5e219d0777b6f427",
   "outputs": [
    {
     "name": "stdout",
     "output_type": "stream",
     "text": [
      "0\n"
     ]
    }
   ],
   "execution_count": 28
  },
  {
   "metadata": {
    "ExecuteTime": {
     "end_time": "2024-05-30T12:56:24.169529Z",
     "start_time": "2024-05-30T12:56:24.163223Z"
    }
   },
   "cell_type": "code",
   "source": [
    "import numpy as np\n",
    "from sklearn.metrics import accuracy_score, confusion_matrix, roc_auc_score, roc_curve\n",
    "import matplotlib.pyplot as plt\n",
    "\n",
    "def plot_roc_curve(true_y, y_prob):\n",
    "    \"\"\"\n",
    "    plots the roc curve based of the probabilities\n",
    "    \"\"\"\n",
    "\n",
    "    fpr, tpr, thresholds = roc_curve(true_y, y_prob)\n",
    "    plt.plot(fpr, tpr)\n",
    "    plt.xlabel('False Positive Rate')\n",
    "    plt.ylabel('True Positive Rate')\n",
    "    plt.savefig(f'/mnt/d/datasets/INBREAST/results/{model_name}_roc.png')\n",
    "    plt.show()"
   ],
   "id": "bd26ed7e09ea7132",
   "outputs": [],
   "execution_count": 34
  },
  {
   "metadata": {
    "ExecuteTime": {
     "end_time": "2024-05-30T12:54:30.375688Z",
     "start_time": "2024-05-30T12:54:30.371423Z"
    }
   },
   "cell_type": "code",
   "source": "predicted_probs = np.where(predicted_probs == 1, 0.99999999, predicted_probs)",
   "id": "2f8f50c39e077460",
   "outputs": [],
   "execution_count": 29
  },
  {
   "metadata": {
    "ExecuteTime": {
     "end_time": "2024-05-30T12:56:41.657394Z",
     "start_time": "2024-05-30T12:56:41.417970Z"
    }
   },
   "cell_type": "code",
   "source": "plot_roc_curve(true_classes, predicted_probs)",
   "id": "4b401dc8464f0cc9",
   "outputs": [
    {
     "data": {
      "text/plain": [
       "<Figure size 640x480 with 1 Axes>"
      ],
      "image/png": "[encoded data removed]"
     },
     "metadata": {},
     "output_type": "display_data"
    }
   ],
   "execution_count": 35
  },
  {
   "metadata": {
    "ExecuteTime": {
     "end_time": "2024-05-30T13:34:09.656461Z",
     "start_time": "2024-05-30T13:34:09.647731Z"
    }
   },
   "cell_type": "code",
   "source": [
    "import numpy as np\n",
    "from sklearn.metrics import confusion_matrix\n",
    "import matplotlib.pyplot as plt\n",
    "import seaborn as sns\n",
    "\n",
    "def make_confusion_matrix(true_y, y_prob, cutoff=0.5):\n",
    "    \"\"\"\n",
    "    Creates and plots a confusion matrix based on the true labels and predicted probabilities.\n",
    "    \n",
    "    Parameters:\n",
    "    - true_y: array-like of shape (n_samples,) containing the true binary labels.\n",
    "    - y_prob: array-like of shape (n_samples,) containing the predicted probabilities.\n",
    "    - cutoff: float, the probability threshold to convert probabilities to binary predictions.\n",
    "    \n",
    "    Returns:\n",
    "    - cm: Confusion matrix.\n",
    "    \"\"\"\n",
    "    # Convert predicted probabilities to binary predictions using the cutoff\n",
    "    y_pred = (y_prob >= cutoff).astype(int)\n",
    "    \n",
    "    # Compute the confusion matrix\n",
    "    cm = confusion_matrix(true_y, y_pred)\n",
    "    \n",
    "    # Plot the confusion matrix\n",
    "    plt.figure(figsize=(8, 6))\n",
    "    sns.heatmap(cm, annot=True, fmt='d', cmap='Blues', xticklabels=['Predicted Positive', 'Predicted Negative'], yticklabels=['Actual Positive', 'Actual Negative'])\n",
    "    plt.xlabel('Predicted Labels')\n",
    "    plt.ylabel('True Labels')\n",
    "    plt.title(f'Confusion Matrix (cutoff={cutoff})')\n",
    "    plt.savefig(f'/mnt/d/datasets/INBREAST/results/{model_name}_conf.png')\n",
    "    plt.show()\n",
    "    \n",
    "    return cm"
   ],
   "id": "3bed349d115a631c",
   "outputs": [],
   "execution_count": 48
  },
  {
   "metadata": {
    "ExecuteTime": {
     "end_time": "2024-05-30T13:34:11.387644Z",
     "start_time": "2024-05-30T13:34:11.062999Z"
    }
   },
   "cell_type": "code",
   "source": [
    "cutoff = 0.5\n",
    "\n",
    "cm = make_confusion_matrix(true_classes, predicted_probs, cutoff=cutoff)\n",
    "print(\"Confusion Matrix:\")\n",
    "print(cm)"
   ],
   "id": "bd19bb81932d1c92",
   "outputs": [
    {
     "data": {
      "text/plain": [
       "<Figure size 800x600 with 2 Axes>"
      ],
      "image/png": "[encoded data removed]"
     },
     "metadata": {},
     "output_type": "display_data"
    },
    {
     "name": "stdout",
     "output_type": "stream",
     "text": [
      "Confusion Matrix:\n",
      "[[171  43]\n",
      " [ 41 237]]\n"
     ]
    }
   ],
   "execution_count": 49
  },
  {
   "metadata": {
    "ExecuteTime": {
     "end_time": "2024-05-26T12:08:53.965302Z",
     "start_time": "2024-05-26T12:08:51.847874Z"
    }
   },
   "cell_type": "code",
   "source": [
    "batches = []\n",
    "images = []\n",
    "labels = []\n",
    "prediction = []\n",
    "\n",
    "# Iterate over the dataset\n",
    "for batch in test_ds:\n",
    "    batch_images, batch_labels = batch\n",
    "    batches.append(batch_images.numpy())\n",
    "    images.extend(batch_images.numpy())\n",
    "    labels.extend(batch_labels.numpy())\n",
    "\n",
    "# Convert lists to numpy arrays\n",
    "images = np.array(images)\n",
    "labels = np.array(labels)\n",
    "\n",
    "for i, image in enumerate(images[0:10]):\n",
    "    plt.imshow(image.astype(\"uint8\"), vmin=0, vmax=255, interpolation='nearest')\n",
    "    plt.title(f'Label: {labels[i]} Prediction: {predictions[i]}')\n",
    "    plt.axis('off')  # Turn off axis\n",
    "    plt.show()"
   ],
   "id": "14bcc73dfce97e3b",
   "outputs": [
    {
     "ename": "ValueError",
     "evalue": "in user code:\n\n    File \"/home/dudder/miniconda3/envs/tf/lib/python3.9/site-packages/keras/engine/training.py\", line 2137, in predict_function  *\n        return step_function(self, iterator)\n    File \"/home/dudder/miniconda3/envs/tf/lib/python3.9/site-packages/keras/engine/training.py\", line 2123, in step_function  **\n        outputs = model.distribute_strategy.run(run_step, args=(data,))\n    File \"/home/dudder/miniconda3/envs/tf/lib/python3.9/site-packages/keras/engine/training.py\", line 2111, in run_step  **\n        outputs = model.predict_step(data)\n    File \"/home/dudder/miniconda3/envs/tf/lib/python3.9/site-packages/keras/engine/training.py\", line 2079, in predict_step\n        return self(x, training=False)\n    File \"/home/dudder/miniconda3/envs/tf/lib/python3.9/site-packages/keras/utils/traceback_utils.py\", line 70, in error_handler\n        raise e.with_traceback(filtered_tb) from None\n    File \"/home/dudder/miniconda3/envs/tf/lib/python3.9/site-packages/keras/engine/input_spec.py\", line 216, in assert_input_compatibility\n        raise ValueError(\n\n    ValueError: Layer \"model\" expects 1 input(s), but it received 82 input tensors. Inputs received: [<tf.Tensor 'IteratorGetNext:0' shape=(None, 224, 224, 3) dtype=float32>, <tf.Tensor 'IteratorGetNext:1' shape=(None, 224, 224, 3) dtype=float32>, <tf.Tensor 'IteratorGetNext:2' shape=(None, 224, 224, 3) dtype=float32>, <tf.Tensor 'IteratorGetNext:3' shape=(None, 224, 224, 3) dtype=float32>, <tf.Tensor 'IteratorGetNext:4' shape=(None, 224, 224, 3) dtype=float32>, <tf.Tensor 'IteratorGetNext:5' shape=(None, 224, 224, 3) dtype=float32>, <tf.Tensor 'IteratorGetNext:6' shape=(None, 224, 224, 3) dtype=float32>, <tf.Tensor 'IteratorGetNext:7' shape=(None, 224, 224, 3) dtype=float32>, <tf.Tensor 'IteratorGetNext:8' shape=(None, 224, 224, 3) dtype=float32>, <tf.Tensor 'IteratorGetNext:9' shape=(None, 224, 224, 3) dtype=float32>, <tf.Tensor 'IteratorGetNext:10' shape=(None, 224, 224, 3) dtype=float32>, <tf.Tensor 'IteratorGetNext:11' shape=(None, 224, 224, 3) dtype=float32>, <tf.Tensor 'IteratorGetNext:12' shape=(None, 224, 224, 3) dtype=float32>, <tf.Tensor 'IteratorGetNext:13' shape=(None, 224, 224, 3) dtype=float32>, <tf.Tensor 'IteratorGetNext:14' shape=(None, 224, 224, 3) dtype=float32>, <tf.Tensor 'IteratorGetNext:15' shape=(None, 224, 224, 3) dtype=float32>, <tf.Tensor 'IteratorGetNext:16' shape=(None, 224, 224, 3) dtype=float32>, <tf.Tensor 'IteratorGetNext:17' shape=(None, 224, 224, 3) dtype=float32>, <tf.Tensor 'IteratorGetNext:18' shape=(None, 224, 224, 3) dtype=float32>, <tf.Tensor 'IteratorGetNext:19' shape=(None, 224, 224, 3) dtype=float32>, <tf.Tensor 'IteratorGetNext:20' shape=(None, 224, 224, 3) dtype=float32>, <tf.Tensor 'IteratorGetNext:21' shape=(None, 224, 224, 3) dtype=float32>, <tf.Tensor 'IteratorGetNext:22' shape=(None, 224, 224, 3) dtype=float32>, <tf.Tensor 'IteratorGetNext:23' shape=(None, 224, 224, 3) dtype=float32>, <tf.Tensor 'IteratorGetNext:24' shape=(None, 224, 224, 3) dtype=float32>, <tf.Tensor 'IteratorGetNext:25' shape=(None, 224, 224, 3) dtype=float32>, <tf.Tensor 'IteratorGetNext:26' shape=(None, 224, 224, 3) dtype=float32>, <tf.Tensor 'IteratorGetNext:27' shape=(None, 224, 224, 3) dtype=float32>, <tf.Tensor 'IteratorGetNext:28' shape=(None, 224, 224, 3) dtype=float32>, <tf.Tensor 'IteratorGetNext:29' shape=(None, 224, 224, 3) dtype=float32>, <tf.Tensor 'IteratorGetNext:30' shape=(None, 224, 224, 3) dtype=float32>, <tf.Tensor 'IteratorGetNext:31' shape=(None, 224, 224, 3) dtype=float32>, <tf.Tensor 'IteratorGetNext:32' shape=(None, 224, 224, 3) dtype=float32>, <tf.Tensor 'IteratorGetNext:33' shape=(None, 224, 224, 3) dtype=float32>, <tf.Tensor 'IteratorGetNext:34' shape=(None, 224, 224, 3) dtype=float32>, <tf.Tensor 'IteratorGetNext:35' shape=(None, 224, 224, 3) dtype=float32>, <tf.Tensor 'IteratorGetNext:36' shape=(None, 224, 224, 3) dtype=float32>, <tf.Tensor 'IteratorGetNext:37' shape=(None, 224, 224, 3) dtype=float32>, <tf.Tensor 'IteratorGetNext:38' shape=(None, 224, 224, 3) dtype=float32>, <tf.Tensor 'IteratorGetNext:39' shape=(None, 224, 224, 3) dtype=float32>, <tf.Tensor 'IteratorGetNext:40' shape=(None, 224, 224, 3) dtype=float32>, <tf.Tensor 'IteratorGetNext:41' shape=(None, 224, 224, 3) dtype=float32>, <tf.Tensor 'IteratorGetNext:42' shape=(None, 224, 224, 3) dtype=float32>, <tf.Tensor 'IteratorGetNext:43' shape=(None, 224, 224, 3) dtype=float32>, <tf.Tensor 'IteratorGetNext:44' shape=(None, 224, 224, 3) dtype=float32>, <tf.Tensor 'IteratorGetNext:45' shape=(None, 224, 224, 3) dtype=float32>, <tf.Tensor 'IteratorGetNext:46' shape=(None, 224, 224, 3) dtype=float32>, <tf.Tensor 'IteratorGetNext:47' shape=(None, 224, 224, 3) dtype=float32>, <tf.Tensor 'IteratorGetNext:48' shape=(None, 224, 224, 3) dtype=float32>, <tf.Tensor 'IteratorGetNext:49' shape=(None, 224, 224, 3) dtype=float32>, <tf.Tensor 'IteratorGetNext:50' shape=(None, 224, 224, 3) dtype=float32>, <tf.Tensor 'IteratorGetNext:51' shape=(None, 224, 224, 3) dtype=float32>, <tf.Tensor 'IteratorGetNext:52' shape=(None, 224, 224, 3) dtype=float32>, <tf.Tensor 'IteratorGetNext:53' shape=(None, 224, 224, 3) dtype=float32>, <tf.Tensor 'IteratorGetNext:54' shape=(None, 224, 224, 3) dtype=float32>, <tf.Tensor 'IteratorGetNext:55' shape=(None, 224, 224, 3) dtype=float32>, <tf.Tensor 'IteratorGetNext:56' shape=(None, 224, 224, 3) dtype=float32>, <tf.Tensor 'IteratorGetNext:57' shape=(None, 224, 224, 3) dtype=float32>, <tf.Tensor 'IteratorGetNext:58' shape=(None, 224, 224, 3) dtype=float32>, <tf.Tensor 'IteratorGetNext:59' shape=(None, 224, 224, 3) dtype=float32>, <tf.Tensor 'IteratorGetNext:60' shape=(None, 224, 224, 3) dtype=float32>, <tf.Tensor 'IteratorGetNext:61' shape=(None, 224, 224, 3) dtype=float32>, <tf.Tensor 'IteratorGetNext:62' shape=(None, 224, 224, 3) dtype=float32>, <tf.Tensor 'IteratorGetNext:63' shape=(None, 224, 224, 3) dtype=float32>, <tf.Tensor 'IteratorGetNext:64' shape=(None, 224, 224, 3) dtype=float32>, <tf.Tensor 'IteratorGetNext:65' shape=(None, 224, 224, 3) dtype=float32>, <tf.Tensor 'IteratorGetNext:66' shape=(None, 224, 224, 3) dtype=float32>, <tf.Tensor 'IteratorGetNext:67' shape=(None, 224, 224, 3) dtype=float32>, <tf.Tensor 'IteratorGetNext:68' shape=(None, 224, 224, 3) dtype=float32>, <tf.Tensor 'IteratorGetNext:69' shape=(None, 224, 224, 3) dtype=float32>, <tf.Tensor 'IteratorGetNext:70' shape=(None, 224, 224, 3) dtype=float32>, <tf.Tensor 'IteratorGetNext:71' shape=(None, 224, 224, 3) dtype=float32>, <tf.Tensor 'IteratorGetNext:72' shape=(None, 224, 224, 3) dtype=float32>, <tf.Tensor 'IteratorGetNext:73' shape=(None, 224, 224, 3) dtype=float32>, <tf.Tensor 'IteratorGetNext:74' shape=(None, 224, 224, 3) dtype=float32>, <tf.Tensor 'IteratorGetNext:75' shape=(None, 224, 224, 3) dtype=float32>, <tf.Tensor 'IteratorGetNext:76' shape=(None, 224, 224, 3) dtype=float32>, <tf.Tensor 'IteratorGetNext:77' shape=(None, 224, 224, 3) dtype=float32>, <tf.Tensor 'IteratorGetNext:78' shape=(None, 224, 224, 3) dtype=float32>, <tf.Tensor 'IteratorGetNext:79' shape=(None, 224, 224, 3) dtype=float32>, <tf.Tensor 'IteratorGetNext:80' shape=(None, 224, 224, 3) dtype=float32>, <tf.Tensor 'IteratorGetNext:81' shape=(None, 224, 224, 3) dtype=float32>]\n",
     "output_type": "error",
     "traceback": [
      "\u001B[0;31m---------------------------------------------------------------------------\u001B[0m",
      "\u001B[0;31mValueError\u001B[0m                                Traceback (most recent call last)",
      "Cell \u001B[0;32mIn[24], line 13\u001B[0m\n\u001B[1;32m     10\u001B[0m     images\u001B[38;5;241m.\u001B[39mextend(batch_images\u001B[38;5;241m.\u001B[39mnumpy())\n\u001B[1;32m     11\u001B[0m     labels\u001B[38;5;241m.\u001B[39mextend(batch_labels\u001B[38;5;241m.\u001B[39mnumpy())\n\u001B[0;32m---> 13\u001B[0m predictions \u001B[38;5;241m=\u001B[39m \u001B[43mmodel\u001B[49m\u001B[38;5;241;43m.\u001B[39;49m\u001B[43mpredict\u001B[49m\u001B[43m(\u001B[49m\u001B[43mbatches\u001B[49m\u001B[43m)\u001B[49m\n\u001B[1;32m     15\u001B[0m \u001B[38;5;66;03m# Convert lists to numpy arrays\u001B[39;00m\n\u001B[1;32m     16\u001B[0m images \u001B[38;5;241m=\u001B[39m np\u001B[38;5;241m.\u001B[39marray(images)\n",
      "File \u001B[0;32m~/miniconda3/envs/tf/lib/python3.9/site-packages/keras/utils/traceback_utils.py:70\u001B[0m, in \u001B[0;36mfilter_traceback.<locals>.error_handler\u001B[0;34m(*args, **kwargs)\u001B[0m\n\u001B[1;32m     67\u001B[0m     filtered_tb \u001B[38;5;241m=\u001B[39m _process_traceback_frames(e\u001B[38;5;241m.\u001B[39m__traceback__)\n\u001B[1;32m     68\u001B[0m     \u001B[38;5;66;03m# To get the full stack trace, call:\u001B[39;00m\n\u001B[1;32m     69\u001B[0m     \u001B[38;5;66;03m# `tf.debugging.disable_traceback_filtering()`\u001B[39;00m\n\u001B[0;32m---> 70\u001B[0m     \u001B[38;5;28;01mraise\u001B[39;00m e\u001B[38;5;241m.\u001B[39mwith_traceback(filtered_tb) \u001B[38;5;28;01mfrom\u001B[39;00m \u001B[38;5;28;01mNone\u001B[39;00m\n\u001B[1;32m     71\u001B[0m \u001B[38;5;28;01mfinally\u001B[39;00m:\n\u001B[1;32m     72\u001B[0m     \u001B[38;5;28;01mdel\u001B[39;00m filtered_tb\n",
      "File \u001B[0;32m/tmp/__autograph_generated_file9mh8myp5.py:15\u001B[0m, in \u001B[0;36mouter_factory.<locals>.inner_factory.<locals>.tf__predict_function\u001B[0;34m(iterator)\u001B[0m\n\u001B[1;32m     13\u001B[0m \u001B[38;5;28;01mtry\u001B[39;00m:\n\u001B[1;32m     14\u001B[0m     do_return \u001B[38;5;241m=\u001B[39m \u001B[38;5;28;01mTrue\u001B[39;00m\n\u001B[0;32m---> 15\u001B[0m     retval_ \u001B[38;5;241m=\u001B[39m ag__\u001B[38;5;241m.\u001B[39mconverted_call(ag__\u001B[38;5;241m.\u001B[39mld(step_function), (ag__\u001B[38;5;241m.\u001B[39mld(\u001B[38;5;28mself\u001B[39m), ag__\u001B[38;5;241m.\u001B[39mld(iterator)), \u001B[38;5;28;01mNone\u001B[39;00m, fscope)\n\u001B[1;32m     16\u001B[0m \u001B[38;5;28;01mexcept\u001B[39;00m:\n\u001B[1;32m     17\u001B[0m     do_return \u001B[38;5;241m=\u001B[39m \u001B[38;5;28;01mFalse\u001B[39;00m\n",
      "\u001B[0;31mValueError\u001B[0m: in user code:\n\n    File \"/home/dudder/miniconda3/envs/tf/lib/python3.9/site-packages/keras/engine/training.py\", line 2137, in predict_function  *\n        return step_function(self, iterator)\n    File \"/home/dudder/miniconda3/envs/tf/lib/python3.9/site-packages/keras/engine/training.py\", line 2123, in step_function  **\n        outputs = model.distribute_strategy.run(run_step, args=(data,))\n    File \"/home/dudder/miniconda3/envs/tf/lib/python3.9/site-packages/keras/engine/training.py\", line 2111, in run_step  **\n        outputs = model.predict_step(data)\n    File \"/home/dudder/miniconda3/envs/tf/lib/python3.9/site-packages/keras/engine/training.py\", line 2079, in predict_step\n        return self(x, training=False)\n    File \"/home/dudder/miniconda3/envs/tf/lib/python3.9/site-packages/keras/utils/traceback_utils.py\", line 70, in error_handler\n        raise e.with_traceback(filtered_tb) from None\n    File \"/home/dudder/miniconda3/envs/tf/lib/python3.9/site-packages/keras/engine/input_spec.py\", line 216, in assert_input_compatibility\n        raise ValueError(\n\n    ValueError: Layer \"model\" expects 1 input(s), but it received 82 input tensors. Inputs received: [<tf.Tensor 'IteratorGetNext:0' shape=(None, 224, 224, 3) dtype=float32>, <tf.Tensor 'IteratorGetNext:1' shape=(None, 224, 224, 3) dtype=float32>, <tf.Tensor 'IteratorGetNext:2' shape=(None, 224, 224, 3) dtype=float32>, <tf.Tensor 'IteratorGetNext:3' shape=(None, 224, 224, 3) dtype=float32>, <tf.Tensor 'IteratorGetNext:4' shape=(None, 224, 224, 3) dtype=float32>, <tf.Tensor 'IteratorGetNext:5' shape=(None, 224, 224, 3) dtype=float32>, <tf.Tensor 'IteratorGetNext:6' shape=(None, 224, 224, 3) dtype=float32>, <tf.Tensor 'IteratorGetNext:7' shape=(None, 224, 224, 3) dtype=float32>, <tf.Tensor 'IteratorGetNext:8' shape=(None, 224, 224, 3) dtype=float32>, <tf.Tensor 'IteratorGetNext:9' shape=(None, 224, 224, 3) dtype=float32>, <tf.Tensor 'IteratorGetNext:10' shape=(None, 224, 224, 3) dtype=float32>, <tf.Tensor 'IteratorGetNext:11' shape=(None, 224, 224, 3) dtype=float32>, <tf.Tensor 'IteratorGetNext:12' shape=(None, 224, 224, 3) dtype=float32>, <tf.Tensor 'IteratorGetNext:13' shape=(None, 224, 224, 3) dtype=float32>, <tf.Tensor 'IteratorGetNext:14' shape=(None, 224, 224, 3) dtype=float32>, <tf.Tensor 'IteratorGetNext:15' shape=(None, 224, 224, 3) dtype=float32>, <tf.Tensor 'IteratorGetNext:16' shape=(None, 224, 224, 3) dtype=float32>, <tf.Tensor 'IteratorGetNext:17' shape=(None, 224, 224, 3) dtype=float32>, <tf.Tensor 'IteratorGetNext:18' shape=(None, 224, 224, 3) dtype=float32>, <tf.Tensor 'IteratorGetNext:19' shape=(None, 224, 224, 3) dtype=float32>, <tf.Tensor 'IteratorGetNext:20' shape=(None, 224, 224, 3) dtype=float32>, <tf.Tensor 'IteratorGetNext:21' shape=(None, 224, 224, 3) dtype=float32>, <tf.Tensor 'IteratorGetNext:22' shape=(None, 224, 224, 3) dtype=float32>, <tf.Tensor 'IteratorGetNext:23' shape=(None, 224, 224, 3) dtype=float32>, <tf.Tensor 'IteratorGetNext:24' shape=(None, 224, 224, 3) dtype=float32>, <tf.Tensor 'IteratorGetNext:25' shape=(None, 224, 224, 3) dtype=float32>, <tf.Tensor 'IteratorGetNext:26' shape=(None, 224, 224, 3) dtype=float32>, <tf.Tensor 'IteratorGetNext:27' shape=(None, 224, 224, 3) dtype=float32>, <tf.Tensor 'IteratorGetNext:28' shape=(None, 224, 224, 3) dtype=float32>, <tf.Tensor 'IteratorGetNext:29' shape=(None, 224, 224, 3) dtype=float32>, <tf.Tensor 'IteratorGetNext:30' shape=(None, 224, 224, 3) dtype=float32>, <tf.Tensor 'IteratorGetNext:31' shape=(None, 224, 224, 3) dtype=float32>, <tf.Tensor 'IteratorGetNext:32' shape=(None, 224, 224, 3) dtype=float32>, <tf.Tensor 'IteratorGetNext:33' shape=(None, 224, 224, 3) dtype=float32>, <tf.Tensor 'IteratorGetNext:34' shape=(None, 224, 224, 3) dtype=float32>, <tf.Tensor 'IteratorGetNext:35' shape=(None, 224, 224, 3) dtype=float32>, <tf.Tensor 'IteratorGetNext:36' shape=(None, 224, 224, 3) dtype=float32>, <tf.Tensor 'IteratorGetNext:37' shape=(None, 224, 224, 3) dtype=float32>, <tf.Tensor 'IteratorGetNext:38' shape=(None, 224, 224, 3) dtype=float32>, <tf.Tensor 'IteratorGetNext:39' shape=(None, 224, 224, 3) dtype=float32>, <tf.Tensor 'IteratorGetNext:40' shape=(None, 224, 224, 3) dtype=float32>, <tf.Tensor 'IteratorGetNext:41' shape=(None, 224, 224, 3) dtype=float32>, <tf.Tensor 'IteratorGetNext:42' shape=(None, 224, 224, 3) dtype=float32>, <tf.Tensor 'IteratorGetNext:43' shape=(None, 224, 224, 3) dtype=float32>, <tf.Tensor 'IteratorGetNext:44' shape=(None, 224, 224, 3) dtype=float32>, <tf.Tensor 'IteratorGetNext:45' shape=(None, 224, 224, 3) dtype=float32>, <tf.Tensor 'IteratorGetNext:46' shape=(None, 224, 224, 3) dtype=float32>, <tf.Tensor 'IteratorGetNext:47' shape=(None, 224, 224, 3) dtype=float32>, <tf.Tensor 'IteratorGetNext:48' shape=(None, 224, 224, 3) dtype=float32>, <tf.Tensor 'IteratorGetNext:49' shape=(None, 224, 224, 3) dtype=float32>, <tf.Tensor 'IteratorGetNext:50' shape=(None, 224, 224, 3) dtype=float32>, <tf.Tensor 'IteratorGetNext:51' shape=(None, 224, 224, 3) dtype=float32>, <tf.Tensor 'IteratorGetNext:52' shape=(None, 224, 224, 3) dtype=float32>, <tf.Tensor 'IteratorGetNext:53' shape=(None, 224, 224, 3) dtype=float32>, <tf.Tensor 'IteratorGetNext:54' shape=(None, 224, 224, 3) dtype=float32>, <tf.Tensor 'IteratorGetNext:55' shape=(None, 224, 224, 3) dtype=float32>, <tf.Tensor 'IteratorGetNext:56' shape=(None, 224, 224, 3) dtype=float32>, <tf.Tensor 'IteratorGetNext:57' shape=(None, 224, 224, 3) dtype=float32>, <tf.Tensor 'IteratorGetNext:58' shape=(None, 224, 224, 3) dtype=float32>, <tf.Tensor 'IteratorGetNext:59' shape=(None, 224, 224, 3) dtype=float32>, <tf.Tensor 'IteratorGetNext:60' shape=(None, 224, 224, 3) dtype=float32>, <tf.Tensor 'IteratorGetNext:61' shape=(None, 224, 224, 3) dtype=float32>, <tf.Tensor 'IteratorGetNext:62' shape=(None, 224, 224, 3) dtype=float32>, <tf.Tensor 'IteratorGetNext:63' shape=(None, 224, 224, 3) dtype=float32>, <tf.Tensor 'IteratorGetNext:64' shape=(None, 224, 224, 3) dtype=float32>, <tf.Tensor 'IteratorGetNext:65' shape=(None, 224, 224, 3) dtype=float32>, <tf.Tensor 'IteratorGetNext:66' shape=(None, 224, 224, 3) dtype=float32>, <tf.Tensor 'IteratorGetNext:67' shape=(None, 224, 224, 3) dtype=float32>, <tf.Tensor 'IteratorGetNext:68' shape=(None, 224, 224, 3) dtype=float32>, <tf.Tensor 'IteratorGetNext:69' shape=(None, 224, 224, 3) dtype=float32>, <tf.Tensor 'IteratorGetNext:70' shape=(None, 224, 224, 3) dtype=float32>, <tf.Tensor 'IteratorGetNext:71' shape=(None, 224, 224, 3) dtype=float32>, <tf.Tensor 'IteratorGetNext:72' shape=(None, 224, 224, 3) dtype=float32>, <tf.Tensor 'IteratorGetNext:73' shape=(None, 224, 224, 3) dtype=float32>, <tf.Tensor 'IteratorGetNext:74' shape=(None, 224, 224, 3) dtype=float32>, <tf.Tensor 'IteratorGetNext:75' shape=(None, 224, 224, 3) dtype=float32>, <tf.Tensor 'IteratorGetNext:76' shape=(None, 224, 224, 3) dtype=float32>, <tf.Tensor 'IteratorGetNext:77' shape=(None, 224, 224, 3) dtype=float32>, <tf.Tensor 'IteratorGetNext:78' shape=(None, 224, 224, 3) dtype=float32>, <tf.Tensor 'IteratorGetNext:79' shape=(None, 224, 224, 3) dtype=float32>, <tf.Tensor 'IteratorGetNext:80' shape=(None, 224, 224, 3) dtype=float32>, <tf.Tensor 'IteratorGetNext:81' shape=(None, 224, 224, 3) dtype=float32>]\n"
     ]
    }
   ],
   "execution_count": 24
  },
  {
   "metadata": {
    "ExecuteTime": {
     "end_time": "2024-05-17T15:35:35.650841Z",
     "start_time": "2024-05-17T15:35:34.479640Z"
    }
   },
   "cell_type": "code",
   "source": [
    "# Define function to preprocess images as required by ResNet\n",
    "def preprocess(images, labels):\n",
    "    return tf.keras.applications.resnet_v2.preprocess_input(images), labels\n",
    "\n",
    "test = tf.keras.preprocessing.image_dataset_from_directory(\n",
    "    testdir, image_size=(img_width, img_height), batch_size=batch_size)\n",
    "\n",
    "test_ds = test.map(preprocess)"
   ],
   "id": "dd2e27b1d2efde8a",
   "outputs": [
    {
     "name": "stdout",
     "output_type": "stream",
     "text": [
      "Found 492 files belonging to 2 classes.\n"
     ]
    }
   ],
   "execution_count": 18
  },
  {
   "metadata": {
    "ExecuteTime": {
     "end_time": "2024-05-17T15:36:18.897145Z",
     "start_time": "2024-05-17T15:35:36.327126Z"
    }
   },
   "cell_type": "code",
   "source": [
    "testloss, testaccuracy, testauc, precision, recall = model.evaluate(test_ds)\n",
    "print('Test accuracy :', testaccuracy)\n",
    "print('Test AUC :', testauc)\n",
    "\n",
    "F1 = 2 * float(precision) * float(recall) / (float(precision) + float(recall))\n",
    "print('Test F1 :', F1)\n",
    "print('Test precision :', precision)\n",
    "print('Test recall :', recall)\n",
    "\n",
    "# Model path setup.\n",
    "if not os.path.exists('/mnt/d/datasets/INBREAST/results/' + model_name + '/' + dirName):\n",
    "    os.makedirs('/mnt/d/datasets/INBREAST/results/' + model_name + '/' + dirName + '/')\n",
    "\n",
    "model.save('/mnt/d/datasets/INBREAST/results/' + model_name + '/' + dirName + '/custom_cnn_v_1')\n",
    "predicted_probs = np.array([])\n",
    "true_classes = np.array([])\n",
    "IterationChecker = 0\n",
    "for images, labels in test_ds:\n",
    "    if IterationChecker == 0:\n",
    "        predicted_probs = model(images)\n",
    "        true_classes = labels.numpy()\n",
    "\n",
    "    IterationChecker += 1\n",
    "\n",
    "    predicted_probs = np.concatenate([predicted_probs,\n",
    "                                      model(images)])\n",
    "    true_classes = np.concatenate([true_classes, labels.numpy()])\n",
    "# Since they are sigmoid outputs, you need to transform them into classes with a threshold, i.e 0.5 here:\n",
    "predicted_classes = [1 * (x[0] >= cutoff) for x in predicted_probs]\n",
    "# confusion matrix etc:\n",
    "conf_matrix = tf.math.confusion_matrix(true_classes, predicted_classes)\n",
    "print(conf_matrix)\n",
    "\n",
    "predicted_probs = np.squeeze(predicted_probs)\n",
    "predicted_classes = np.array(predicted_classes)\n",
    "true_classes = np.squeeze(true_classes)\n",
    "summedResults = np.stack((predicted_probs, predicted_classes, true_classes), axis=1)\n",
    "##Print out statistics which test files are correctly predicted or not.\n",
    "np.savetxt('/mnt/d/datasets/INBREAST/results/' + model_name + '.csv', summedResults, delimiter=',',\n",
    "           header=\"predicted_probabilty,predicted_classes,true_classes\", comments=\"\")"
   ],
   "id": "49ac8dc74359ae6c",
   "outputs": [
    {
     "name": "stdout",
     "output_type": "stream",
     "text": [
      "82/82 [==============================] - 6s 70ms/step - loss: 0.8055 - accuracy: 0.8069 - auc: 0.8685 - precision: 0.8427 - recall: 0.8094\n",
      "Test accuracy : 0.8069105744361877\n",
      "Test AUC : 0.8684697151184082\n",
      "Test F1 : 0.8256880623394667\n",
      "Test precision : 0.8426966071128845\n",
      "Test recall : 0.8093525171279907\n"
     ]
    },
    {
     "name": "stderr",
     "output_type": "stream",
     "text": [
      "WARNING:absl:Found untraced functions such as _jit_compiled_convolution_op, _jit_compiled_convolution_op, _jit_compiled_convolution_op, _jit_compiled_convolution_op, _jit_compiled_convolution_op while saving (showing 5 of 54). These functions will not be directly callable after loading.\n"
     ]
    },
    {
     "name": "stdout",
     "output_type": "stream",
     "text": [
      "INFO:tensorflow:Assets written to: /mnt/d/datasets/INBREAST/results/resnet50/2_classes/custom_cnn_v_1/assets\n"
     ]
    },
    {
     "name": "stderr",
     "output_type": "stream",
     "text": [
      "INFO:tensorflow:Assets written to: /mnt/d/datasets/INBREAST/results/resnet50/2_classes/custom_cnn_v_1/assets\n"
     ]
    },
    {
     "name": "stdout",
     "output_type": "stream",
     "text": [
      "tf.Tensor(\n",
      "[[172  42]\n",
      " [ 55 229]], shape=(2, 2), dtype=int32)\n"
     ]
    }
   ],
   "execution_count": 19
  },
  {
   "metadata": {},
   "cell_type": "code",
   "outputs": [],
   "execution_count": null,
   "source": "",
   "id": "1c234552bc901593"
  }
 ],
 "metadata": {
  "kernelspec": {
   "display_name": "Python 3",
   "language": "python",
   "name": "python3"
  },
  "language_info": {
   "codemirror_mode": {
    "name": "ipython",
    "version": 2
   },
   "file_extension": ".py",
   "mimetype": "text/x-python",
   "name": "python",
   "nbconvert_exporter": "python",
   "pygments_lexer": "ipython2",
   "version": "2.7.6"
  }
 },
 "nbformat": 4,
 "nbformat_minor": 5
}
