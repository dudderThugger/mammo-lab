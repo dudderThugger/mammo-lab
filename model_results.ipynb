{
 "cells": [
  {
   "cell_type": "code",
   "id": "initial_id",
   "metadata": {
    "collapsed": true,
    "ExecuteTime": {
     "end_time": "2024-05-17T15:22:53.998770Z",
     "start_time": "2024-05-17T15:22:53.989389Z"
    }
   },
   "source": [
    "import tensorflow as tf\n",
    "import os\n",
    "import numpy as np"
   ],
   "outputs": [],
   "execution_count": 5
  },
  {
   "metadata": {
    "ExecuteTime": {
     "end_time": "2024-05-17T15:33:42.896199Z",
     "start_time": "2024-05-17T15:33:42.891374Z"
    }
   },
   "cell_type": "code",
   "source": "model_name = 'resnet50'",
   "id": "868c544d56ed7cb3",
   "outputs": [],
   "execution_count": 13
  },
  {
   "metadata": {
    "ExecuteTime": {
     "end_time": "2024-05-17T15:33:51.361319Z",
     "start_time": "2024-05-17T15:33:43.728550Z"
    }
   },
   "cell_type": "code",
   "source": "model = tf.keras.models.load_model('/mnt/d/datasets/INBREAST/results/' + model_name + '.h5')",
   "id": "44f849fc67c7fc77",
   "outputs": [],
   "execution_count": 14
  },
  {
   "metadata": {
    "ExecuteTime": {
     "end_time": "2024-05-17T15:35:22.736627Z",
     "start_time": "2024-05-17T15:35:22.730049Z"
    }
   },
   "cell_type": "code",
   "source": [
    "# Check CUDA functionality, restart kernel to change GPUs\n",
    "gpus = tf.config.list_physical_devices('GPU')\n",
    "print(\"*************************************\")\n",
    "print(gpus)\n",
    "print(\"*************************************\")\n",
    "\n",
    "cutoff = 0.5\n",
    "img_height = 224\n",
    "img_width = 224\n",
    "batch_size = 6\n",
    "\n",
    "# setup train, validation, and test folders\n",
    "traindir = '/mnt/d/datasets/INBREAST/split/train'\n",
    "valdir = '/mnt/d/datasets/INBREAST/split/validation'\n",
    "testdir = '/mnt/d/datasets/INBREAST/split/test'\n",
    "dirName = '2_classes'"
   ],
   "id": "87225af4717fc181",
   "outputs": [
    {
     "name": "stdout",
     "output_type": "stream",
     "text": [
      "*************************************\n",
      "[PhysicalDevice(name='/physical_device:GPU:0', device_type='GPU')]\n",
      "*************************************\n"
     ]
    }
   ],
   "execution_count": 17
  },
  {
   "metadata": {},
   "cell_type": "code",
   "outputs": [],
   "execution_count": null,
   "source": [
    "test_ds = tf.keras.utils.image_dataset_from_directory(\n",
    "  testdir,\n",
    "  image_size=(img_height, img_width),\n",
    "  batch_size=batch_size\n",
    ")"
   ],
   "id": "5fdc1effaf7e0d86"
  },
  {
   "metadata": {
    "ExecuteTime": {
     "end_time": "2024-05-17T15:35:35.650841Z",
     "start_time": "2024-05-17T15:35:34.479640Z"
    }
   },
   "cell_type": "code",
   "source": [
    "# Define function to preprocess images as required by ResNet\n",
    "def preprocess(images, labels):\n",
    "    return tf.keras.applications.resnet_v2.preprocess_input(images), labels\n",
    "\n",
    "test = tf.keras.preprocessing.image_dataset_from_directory(\n",
    "    testdir, image_size=(img_width, img_height), batch_size=batch_size)\n",
    "\n",
    "test_ds = test.map(preprocess)"
   ],
   "id": "dd2e27b1d2efde8a",
   "outputs": [
    {
     "name": "stdout",
     "output_type": "stream",
     "text": [
      "Found 492 files belonging to 2 classes.\n"
     ]
    }
   ],
   "execution_count": 18
  },
  {
   "metadata": {
    "ExecuteTime": {
     "end_time": "2024-05-17T15:36:18.897145Z",
     "start_time": "2024-05-17T15:35:36.327126Z"
    }
   },
   "cell_type": "code",
   "source": [
    "testloss, testaccuracy, testauc, precision, recall = model.evaluate(test_ds)\n",
    "print('Test accuracy :', testaccuracy)\n",
    "print('Test AUC :', testauc)\n",
    "\n",
    "F1 = 2 * float(precision) * float(recall) / (float(precision) + float(recall))\n",
    "print('Test F1 :', F1)\n",
    "print('Test precision :', precision)\n",
    "print('Test recall :', recall)\n",
    "\n",
    "# Model path setup.\n",
    "if not os.path.exists('/mnt/d/datasets/INBREAST/results/' + model_name + '/' + dirName):\n",
    "    os.makedirs('/mnt/d/datasets/INBREAST/results/' + model_name + '/' + dirName + '/')\n",
    "\n",
    "model.save('/mnt/d/datasets/INBREAST/results/' + model_name + '/' + dirName + '/custom_cnn_v_1')\n",
    "predicted_probs = np.array([])\n",
    "true_classes = np.array([])\n",
    "IterationChecker = 0\n",
    "for images, labels in test_ds:\n",
    "    if IterationChecker == 0:\n",
    "        predicted_probs = model(images)\n",
    "        true_classes = labels.numpy()\n",
    "\n",
    "    IterationChecker += 1\n",
    "\n",
    "    predicted_probs = np.concatenate([predicted_probs,\n",
    "                                      model(images)])\n",
    "    true_classes = np.concatenate([true_classes, labels.numpy()])\n",
    "# Since they are sigmoid outputs, you need to transform them into classes with a threshold, i.e 0.5 here:\n",
    "predicted_classes = [1 * (x[0] >= cutoff) for x in predicted_probs]\n",
    "# confusion matrix etc:\n",
    "conf_matrix = tf.math.confusion_matrix(true_classes, predicted_classes)\n",
    "print(conf_matrix)\n",
    "\n",
    "predicted_probs = np.squeeze(predicted_probs)\n",
    "predicted_classes = np.array(predicted_classes)\n",
    "true_classes = np.squeeze(true_classes)\n",
    "summedResults = np.stack((predicted_probs, predicted_classes, true_classes), axis=1)\n",
    "##Print out statistics which test files are correctly predicted or not.\n",
    "np.savetxt('/mnt/d/datasets/INBREAST/results/' + model_name + '.csv', summedResults, delimiter=',',\n",
    "           header=\"predicted_probabilty,predicted_classes,true_classes\", comments=\"\")"
   ],
   "id": "49ac8dc74359ae6c",
   "outputs": [
    {
     "name": "stdout",
     "output_type": "stream",
     "text": [
      "82/82 [==============================] - 6s 70ms/step - loss: 0.8055 - accuracy: 0.8069 - auc: 0.8685 - precision: 0.8427 - recall: 0.8094\n",
      "Test accuracy : 0.8069105744361877\n",
      "Test AUC : 0.8684697151184082\n",
      "Test F1 : 0.8256880623394667\n",
      "Test precision : 0.8426966071128845\n",
      "Test recall : 0.8093525171279907\n"
     ]
    },
    {
     "name": "stderr",
     "output_type": "stream",
     "text": [
      "WARNING:absl:Found untraced functions such as _jit_compiled_convolution_op, _jit_compiled_convolution_op, _jit_compiled_convolution_op, _jit_compiled_convolution_op, _jit_compiled_convolution_op while saving (showing 5 of 54). These functions will not be directly callable after loading.\n"
     ]
    },
    {
     "name": "stdout",
     "output_type": "stream",
     "text": [
      "INFO:tensorflow:Assets written to: /mnt/d/datasets/INBREAST/results/resnet50/2_classes/custom_cnn_v_1/assets\n"
     ]
    },
    {
     "name": "stderr",
     "output_type": "stream",
     "text": [
      "INFO:tensorflow:Assets written to: /mnt/d/datasets/INBREAST/results/resnet50/2_classes/custom_cnn_v_1/assets\n"
     ]
    },
    {
     "name": "stdout",
     "output_type": "stream",
     "text": [
      "tf.Tensor(\n",
      "[[172  42]\n",
      " [ 55 229]], shape=(2, 2), dtype=int32)\n"
     ]
    }
   ],
   "execution_count": 19
  },
  {
   "metadata": {},
   "cell_type": "code",
   "outputs": [],
   "execution_count": null,
   "source": "",
   "id": "1c234552bc901593"
  }
 ],
 "metadata": {
  "kernelspec": {
   "display_name": "Python 3",
   "language": "python",
   "name": "python3"
  },
  "language_info": {
   "codemirror_mode": {
    "name": "ipython",
    "version": 2
   },
   "file_extension": ".py",
   "mimetype": "text/x-python",
   "name": "python",
   "nbconvert_exporter": "python",
   "pygments_lexer": "ipython2",
   "version": "2.7.6"
  }
 },
 "nbformat": 4,
 "nbformat_minor": 5
}
