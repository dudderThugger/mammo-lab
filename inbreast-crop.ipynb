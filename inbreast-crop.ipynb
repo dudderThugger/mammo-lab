{
 "cells": [
  {
   "cell_type": "code",
   "metadata": {
    "ExecuteTime": {
     "end_time": "2024-05-15T16:15:15.260909Z",
     "start_time": "2024-05-15T16:15:15.253900Z"
    }
   },
   "source": [
    "import numpy as np\n",
    "import pandas as pd\n",
    "from PIL import Image\n",
    "import os\n",
    "import matplotlib.pyplot as plt\n",
    "import matplotlib.patches as patches\n",
    "import random\n",
    "import sklearn as sk\n",
    "import shutil\n",
    "\n",
    "inbreast_path = '/mnt/d/datasets/INBREAST/inbreast'\n",
    "croped_path = '/mnt/d/datasets/INBREAST/crops'\n",
    "split_path = '/mnt/d/datasets/INBREAST/split'\n",
    "file_dir = '/mnt/c/Users/Szelestey/Projects/laboratory-mammography'\n",
    "\n",
    "crop_size = [224,224]"
   ],
   "execution_count": 281,
   "outputs": []
  },
  {
   "cell_type": "code",
   "metadata": {
    "ExecuteTime": {
     "end_time": "2024-05-15T09:14:05.640689Z",
     "start_time": "2024-05-15T09:14:05.593826Z"
    }
   },
   "source": [
    "image_names = []\n",
    "anon = []\n",
    "side = []\n",
    "view_pos = []\n",
    "acr = []\n",
    "birads = []\n",
    "\n",
    "for image_name in os.listdir(f\"{inbreast_path}{os.sep}images\"):\n",
    "    image_names.append(image_name)\n",
    "\n",
    "    meta = image_name[0:-4].split('_')\n",
    "    \n",
    "    anon.append(meta[0])\n",
    "    side.append(meta[1])\n",
    "    view_pos.append(meta[2])\n",
    "    acr.append(meta[4])\n",
    "    birads.append(meta[6])\n",
    "\n",
    "dict_imgs = {\n",
    "    'anon': anon,\n",
    "    'side': side,\n",
    "    'view_pos': view_pos,\n",
    "    'acr': acr,\n",
    "    'birads': birads,\n",
    "    'file': image_names\n",
    "}\n",
    "\n",
    "df_images = pd.DataFrame(dict_imgs)\n",
    "\n",
    "df_images"
   ],
   "execution_count": 8,
   "outputs": []
  },
  {
   "cell_type": "code",
   "metadata": {
    "ExecuteTime": {
     "end_time": "2024-05-15T09:15:03.760241Z",
     "start_time": "2024-05-15T09:14:59.734602Z"
    }
   },
   "source": [
    "mask_names = []\n",
    "anons = []\n",
    "finding_types = []\n",
    "coords_str = []\n",
    "files = []\n",
    "\n",
    "for image_name in os.listdir(f\"{inbreast_path}{os.sep}masks\"):\n",
    "    mask_names.append(image_name)\n",
    "    meta = image_name[0:-4].split('_')\n",
    "    anons.append(meta[0])\n",
    "    if '.png' in image_name:\n",
    "        finding_types.append(meta[1])\n",
    "        coords_str.append(str([]))\n",
    "    elif '.csv' in image_name:\n",
    "        coords = np.genfromtxt(f\"{inbreast_path}{os.sep}masks{os.sep}{image_name}\",delimiter=',')\n",
    "        finding_types.append('-'.join(meta[1:3]))\n",
    "        coords_str.append(str(coords))\n",
    "        \n",
    "dict_findings = {\n",
    "    'anon': anons,\n",
    "    'finding_type': finding_types,\n",
    "    'coord': coords_str,\n",
    "    'mask_file': mask_names\n",
    "}\n",
    "\n",
    "df_findings = pd.DataFrame(dict_findings)\n",
    "df_findings\n"
   ],
   "execution_count": 10,
   "outputs": []
  },
  {
   "cell_type": "code",
   "metadata": {
    "ExecuteTime": {
     "end_time": "2024-05-15T09:47:36.285040Z",
     "start_time": "2024-05-15T09:47:36.253004Z"
    }
   },
   "source": [
    "df_images_and_findings = df_findings.merge(df_images,how='outer',on=['anon'])\n",
    "\n",
    "df_images_and_findings"
   ],
   "execution_count": 44,
   "outputs": []
  },
  {
   "metadata": {
    "ExecuteTime": {
     "end_time": "2024-05-15T10:20:20.433024Z",
     "start_time": "2024-05-15T10:20:20.407779Z"
    }
   },
   "cell_type": "code",
   "source": [
    "df_neg = df_images_and_findings[~df_images_and_findings['finding_type'].notna()]\n",
    "\n",
    "df_neg"
   ],
   "execution_count": 76,
   "outputs": []
  },
  {
   "cell_type": "code",
   "metadata": {
    "ExecuteTime": {
     "end_time": "2024-05-15T14:30:28.829614Z",
     "start_time": "2024-05-15T14:30:28.797045Z"
    }
   },
   "source": [
    "df_pos = df_images_and_findings[df_images_and_findings['finding_type'].isin(['calc','calc-grains','cluster'])]\n",
    "\n",
    "df_pos[df_pos['birads'] == '4a']"
   ],
   "execution_count": 215,
   "outputs": []
  },
  {
   "cell_type": "code",
   "metadata": {
    "ExecuteTime": {
     "end_time": "2024-05-15T14:19:46.531036Z",
     "start_time": "2024-05-15T14:10:50.044476Z"
    }
   },
   "source": [
    "def scale_to_pixels(relative_coords, resolution):\n",
    "    ret = np.zeros([relative_coords.shape[0]])\n",
    "\n",
    "    ret[0] = int(relative_coords[0] * resolution[0])\n",
    "    ret[1] = int(relative_coords[1] * resolution[1])\n",
    "\n",
    "    return ret\n",
    "\n",
    "for i,calc_finding in df_pos.iterrows():\n",
    "    image = Image.open(f\"{inbreast_path}{os.sep}images{os.sep}{calc_finding['file']}\")\n",
    "    image_array = np.array(image)\n",
    "\n",
    "    if calc_finding['finding_type'] in ['calc','cluster']:\n",
    "        mask = Image.open(f\"{inbreast_path}{os.sep}masks{os.sep}{calc_finding['mask_file']}\")\n",
    "        mask_array = np.array(mask)\n",
    "\n",
    "        masked_columns = np.nonzero(np.sum(mask_array, axis=0))\n",
    "        x_min = masked_columns[0][0]\n",
    "        x_max = masked_columns[0][-1]\n",
    "\n",
    "        masked_rows = np.nonzero(np.sum(mask_array, axis=1))\n",
    "        y_min = masked_rows[0][0]\n",
    "        y_max = masked_rows[0][-1]\n",
    "\n",
    "        mask_width = x_max - x_min\n",
    "        mask_height = y_max - y_min\n",
    "\n",
    "        # Choose random offset so the calcifications can be placed anywhere on the image not just the middle\n",
    "        x_offset = random.randint(-crop_size[0] + mask_width, crop_size[0] + mask_width)\n",
    "        y_offset = random.randint(-crop_size[1] + mask_height, crop_size[1] + mask_height)\n",
    "\n",
    "        x_crop = x_min + x_offset\n",
    "        y_crop = y_min + y_offset\n",
    "        \n",
    "        image_width = image_array.shape[1]\n",
    "        image_height = image_array.shape[0]\n",
    "        \n",
    "        if x_crop + crop_size[1] > image_width:\n",
    "            x_crop = image_width - crop_size[1] - 1\n",
    "        \n",
    "        if y_crop + crop_size[0] > image_height:\n",
    "            y_crop = image_height - crop_size[0] - 1\n",
    "            \n",
    "        if x_crop < 0:\n",
    "            x_crop = 0\n",
    "        \n",
    "        if y_crop < 0:\n",
    "            y_crop = 0\n",
    "        \n",
    "        # print(f\"{image_height} *  {image_width}\")\n",
    "        # print(f\"{y_crop}:{y_crop + crop_size[0]},{x_crop}:{x_crop + crop_size[1]}\")\n",
    "        crop_array = image_array[y_crop:y_crop + crop_size[0],x_crop:x_crop + crop_size[1]]\n",
    "        # print(f\"{np.sum(crop_array > 0)} > {int(crop_size[1] * crop_size[0] * 0.25)}\")\n",
    "        if np.sum(crop_array > 0) > int(crop_size[1] * crop_size[0] * 0.25):\n",
    "                    crop = Image.fromarray(crop_array)\n",
    "                    crop.save(f\"{croped_path}/positive/{calc_finding['anon']}_{calc_finding['finding_type']}_{i}_{j}.png\", mode='L')\n",
    "    \n",
    "    elif calc_finding['finding_type'] == 'calc-grains':\n",
    "        grains_relative = np.genfromtxt(f\"{inbreast_path}{os.sep}masks{os.sep}{calc_finding['mask_file']}\",delimiter=',')\n",
    "        \n",
    "        size = image_array.shape\n",
    "        \n",
    "        # Change relative values to pixels\n",
    "        if len(grains_relative.shape) > 1:\n",
    "            grains_scaled = np.apply_along_axis(lambda array: scale_to_pixels(array, size), 1, grains_relative)\n",
    "            grains_sorted = np.sort(grains_scaled, axis=0)\n",
    "    \n",
    "            crops = int(len(grains_sorted) / 6)\n",
    "            chosen_rects = np.zeros([crops, 2])\n",
    "            chosen_grains_indexes = random.sample(range(len(grains_sorted)), crops)\n",
    "            offsets = np.zeros([crops, 2])\n",
    "            \n",
    "            for j in range(crops):\n",
    "                chosen_grain = grains_sorted[chosen_grains_indexes[j]]            \n",
    "                \n",
    "                x_offset = random.randint(-crop_size[0] + 1, 0) + chosen_grain[1]\n",
    "                y_offset = random.randint(-crop_size[1] + 1, 0) + chosen_grain[0]\n",
    "                \n",
    "                image_width = image_array.shape[1]\n",
    "                image_height = image_array.shape[0]\n",
    "                \n",
    "                if x_offset + crop_size[1] > image_width:\n",
    "                    x_offset = image_width - crop_size[1] - 1\n",
    "                \n",
    "                if y_offset + crop_size[0] > image_height:\n",
    "                    y_offset = image_height - crop_size[0] - 1\n",
    "                    \n",
    "                if x_offset< 0:\n",
    "                    x_offset = 0\n",
    "                \n",
    "                if y_offset < 0:\n",
    "                    y_offset = 0\n",
    "                \n",
    "                offsets[j] = (y_offset, x_offset)\n",
    "                \n",
    "            for j, offset in enumerate(offsets):\n",
    "                crop_array = image_array[int(offset[0]):int(crop_size[0] + offset[0]),int(offset[1]):int(crop_size[1] + offset[1])]\n",
    "                if np.sum(crop_array > 0) > crop_size[1] * crop_size[0] * 25:\n",
    "                    crop = Image.fromarray(crop_array)\n",
    "                    crop.save(f\"{croped_path}/positive/{calc_finding['anon']}_calc-grain_{i}_{j}.png\", mode='L')\n"
   ],
   "execution_count": 187,
   "outputs": []
  },
  {
   "metadata": {
    "ExecuteTime": {
     "end_time": "2024-05-15T14:23:44.502774Z",
     "start_time": "2024-05-15T14:23:44.495047Z"
    }
   },
   "cell_type": "code",
   "source": [
    "def crop_black(image_array):\n",
    "    not_dark = np.where(image_array != 0, 1, 0)\n",
    "    tissue_distrib_x = np.sum(not_dark, axis=0) / not_dark.shape[0]\n",
    "    tissue_distri_y = np.sum(not_dark, axis=1) / not_dark.shape[1]\n",
    "    is_tissue_x = np.where(tissue_distrib_x > 0.1, 1, 0)\n",
    "    is_tissue_y = np.where(tissue_distri_y > 0.1, 1, 0)\n",
    "\n",
    "    first_tissue_x = np.where(is_tissue_x == 1)[0][0]\n",
    "    last_tissue_x = np.where(is_tissue_x == 1)[-1][-1]\n",
    "    first_tissue_y = np.where(is_tissue_y == 1)[0][0]\n",
    "    last_tissue_y = np.where(is_tissue_y == 1)[-1][-1]\n",
    "\n",
    "    return image_array[first_tissue_y:last_tissue_y,first_tissue_x:last_tissue_x]"
   ],
   "execution_count": 190,
   "outputs": []
  },
  {
   "cell_type": "code",
   "metadata": {
    "ExecuteTime": {
     "end_time": "2024-05-15T15:50:18.006920Z",
     "start_time": "2024-05-15T15:49:29.414334Z"
    }
   },
   "source": [
    "for i,neg in df_neg.iterrows(): # .loc[0:5,:]\n",
    "    image = Image.open(f\"{inbreast_path}/images/{neg['file']}\")\n",
    "    image_array = np.array(image)\n",
    "    tissue = crop_black(image_array)\n",
    "    \n",
    "    tissue_width = tissue.shape[1]\n",
    "    tissue_height = tissue.shape[0]\n",
    "    \n",
    "    width_crops = int(tissue_width / (crop_size[1] * 1.25))\n",
    "    height_crops = int(tissue_height / (crop_size[0] * 1.25))\n",
    "    \n",
    "    for i in range(width_crops):\n",
    "        for j in range(height_crops):\n",
    "            x_offset = random.randint(0, int(crop_size[1] * 0.25))\n",
    "            y_offset = random.randint(0, int(crop_size[0] * 0.25))\n",
    "            \n",
    "            x_crop = x_offset + int(i * (tissue_width / width_crops))\n",
    "            y_crop = y_offset + int(j * (tissue_height / height_crops))\n",
    "            \n",
    "            tissue_array = tissue[y_crop:y_crop + crop_size[0],x_crop:x_crop + crop_size[1]]\n",
    "            if np.sum(tissue_array > 0) > int(crop_size[0] * crop_size[1] * 0.25):\n",
    "                path = f\"{croped_path}/negative/{neg['anon']}_{i * height_crops + j}.png\"\n",
    "                \n",
    "                im = Image.fromarray(tissue_array)\n",
    "                im.save(path)"
   ],
   "execution_count": 261,
   "outputs": []
  },
  {
   "metadata": {
    "ExecuteTime": {
     "end_time": "2024-05-15T16:07:23.268865Z",
     "start_time": "2024-05-15T16:07:23.235036Z"
    }
   },
   "cell_type": "code",
   "source": [
    "neg_imgs = []\n",
    "\n",
    "for neg_img in os.listdir(f\"{croped_path}/negative\"):\n",
    "    neg_imgs.append(neg_img)\n",
    "    \n",
    "pos_imgs = []\n",
    "\n",
    "for pos_img in os.listdir(f\"{croped_path}/positive\"):\n",
    "    pos_imgs.append(pos_img)\n",
    "    \n",
    "neg_imgs = sk.utils.shuffle(neg_imgs, random_state=5)\n",
    "pos_imgs = sk.utils.shuffle(pos_imgs, random_state=5)\n",
    "\n",
    "neg_train, neg_validation, neg_test = np.split(neg_imgs, [round(0.8 * len(neg_imgs)), round(0.9 * len(neg_imgs))])\n",
    "pos_train, pos_validation, pos_test = np.split(pos_imgs, [round(0.8 * len(pos_imgs)), round(0.9 * len(pos_imgs))])"
   ],
   "execution_count": 270,
   "outputs": []
  },
  {
   "metadata": {
    "ExecuteTime": {
     "end_time": "2024-05-15T16:10:06.346953Z",
     "start_time": "2024-05-15T16:10:06.342231Z"
    }
   },
   "cell_type": "code",
   "source": "print(pos_train[0])",
   "execution_count": 273,
   "outputs": []
  },
  {
   "metadata": {
    "ExecuteTime": {
     "end_time": "2024-05-15T16:16:15.034158Z",
     "start_time": "2024-05-15T16:15:20.271370Z"
    }
   },
   "cell_type": "code",
   "source": [
    "for path in pos_train:\n",
    "    src_path = f\"{croped_path}/positive/{path}\"\n",
    "    dst_path = f\"{split_path}/train/positive/{path}\"\n",
    "    try:\n",
    "        shutil.copyfile(src_path, dst_path)\n",
    "    except FileNotFoundError:\n",
    "        shutil.copyfile(src_path, dst_path)"
   ],
   "execution_count": 282,
   "outputs": []
  },
  {
   "metadata": {
    "ExecuteTime": {
     "end_time": "2024-05-15T16:18:12.148902Z",
     "start_time": "2024-05-15T16:17:21.925250Z"
    }
   },
   "cell_type": "code",
   "source": [
    "for path in neg_train:\n",
    "    src_path = f\"{croped_path}/negative/{path}\"\n",
    "    dst_path = f\"{split_path}/train/negative/{path}\"\n",
    "    try:\n",
    "        shutil.copyfile(src_path, dst_path)\n",
    "    except FileNotFoundError:\n",
    "        shutil.copyfile(src_path, dst_path)\n",
    "        \n",
    "for path in pos_validation:\n",
    "    src_path = f\"{croped_path}/positive/{path}\"\n",
    "    dst_path = f\"{split_path}/validation/positive/{path}\"\n",
    "    try:\n",
    "        shutil.copyfile(src_path, dst_path)\n",
    "    except FileNotFoundError:\n",
    "        shutil.copyfile(src_path, dst_path)\n",
    "        \n",
    "for path in neg_validation:\n",
    "    src_path = f\"{croped_path}/negative/{path}\"\n",
    "    dst_path = f\"{split_path}/validation/negative/{path}\"\n",
    "    try:\n",
    "        shutil.copyfile(src_path, dst_path)\n",
    "    except FileNotFoundError:\n",
    "        shutil.copyfile(src_path, dst_path)\n",
    "        \n",
    "for path in pos_test:\n",
    "    src_path = f\"{croped_path}/positive/{path}\"\n",
    "    dst_path = f\"{split_path}/test/positive/{path}\"\n",
    "    try:\n",
    "        shutil.copyfile(src_path, dst_path)\n",
    "    except FileNotFoundError:\n",
    "        shutil.copyfile(src_path, dst_path)\n",
    "        \n",
    "for path in neg_test:\n",
    "    src_path = f\"{croped_path}/negative/{path}\"\n",
    "    dst_path = f\"{split_path}/test/negative/{path}\"\n",
    "    try:\n",
    "        shutil.copyfile(src_path, dst_path)\n",
    "    except FileNotFoundError:\n",
    "        shutil.copyfile(src_path, dst_path)"
   ],
   "execution_count": 283,
   "outputs": []
  },
  {
   "metadata": {},
   "cell_type": "code",
   "execution_count": null,
   "source": "",
   "outputs": []
  }
 ],
 "metadata": {
  "kernelspec": {
   "display_name": "Python 3",
   "language": "python",
   "name": "python3"
  },
  "language_info": {
   "codemirror_mode": {
    "name": "ipython",
    "version": 3
   },
   "file_extension": ".py",
   "mimetype": "text/x-python",
   "name": "python",
   "nbconvert_exporter": "python",
   "pygments_lexer": "ipython3",
   "version": "3.10.12"
  }
 },
 "nbformat": 4,
 "nbformat_minor": 2
}
