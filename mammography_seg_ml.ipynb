{
 "cells": [
  {
   "cell_type": "markdown",
   "id": "8c7cbbff-7d0d-4ec0-a98b-f50ab4eabd71",
   "metadata": {},
   "source": [
    "# Mammography segmentation solutions with Machine Learning"
   ]
  },
  {
   "cell_type": "markdown",
   "id": "8bea5dd6-b9c9-4ab1-ad4d-147ea028ecc4",
   "metadata": {},
   "source": [
    "## Dataset"
   ]
  },
  {
   "cell_type": "markdown",
   "id": "81a55967-6a67-43b9-8e60-213fbe24daf7",
   "metadata": {},
   "source": [
    "### EMBED\n",
    "EMmory brEast Imagin Dataset (EMBED): https://registry.opendata.aws/emory-breast-imaging-dataset-embed/\n"
   ]
  },
  {
   "cell_type": "markdown",
   "id": "b4dfd468-38ff-4f89-a3e6-38c58cb9476c",
   "metadata": {},
   "source": [
    "## Breast Calcification"
   ]
  },
  {
   "cell_type": "markdown",
   "id": "8398d214-b75f-434d-bb43-f36a591ab77f",
   "metadata": {},
   "source": [
    "Throughout discription:\n",
    "https://www.breastcancer.org/screening-testing/mammograms/calcifications"
   ]
  },
  {
   "cell_type": "markdown",
   "id": "8c2e94ed-94b4-4284-90ee-2f664c8e153c",
   "metadata": {},
   "source": [
    "### Defining variables that are used in every part of the code"
   ]
  },
  {
   "cell_type": "code",
   "execution_count": 2,
   "id": "488678c1-5b27-48d4-afa8-0984b071904d",
   "metadata": {},
   "source": [
    "import pandas as pd\n",
    "import numpy as np"
   ],
   "outputs": []
  },
  {
   "cell_type": "code",
   "execution_count": 3,
   "id": "e5ce4ae4-4ab6-430b-bf07-d63cf2a9aea3",
   "metadata": {},
   "source": [
    "data_path = '/home/szelesteya/projects/EMBED_Open_Data/'\n",
    "tables_path = data_path + 'tables/'\n",
    "image_root_path = '/media/szelesteya/F824D4D024D492CC/EMBED-images/'\n",
    "image_dest_path = image_root_path + 'all-calc-with-roi-reduced'\n",
    "image_figure_path = image_root_path + 'extract'\n",
    "image_negative_path = image_root_path + 'negative'\n",
    "image_resized_path = image_root_path + 'resized'"
   ],
   "outputs": []
  },
  {
   "cell_type": "markdown",
   "id": "699204af-36fb-40d8-975c-4822939f9cb2",
   "metadata": {},
   "source": [
    "### Examine labels and pulling down the neccessary images\n",
    "\n",
    "Only run these lines once, because it may take long time"
   ]
  },
  {
   "cell_type": "markdown",
   "id": "fc2ac62c-77d5-4731-9866-e1431446ce1f",
   "metadata": {},
   "source": [
    "#### Type of calcification labels"
   ]
  },
  {
   "cell_type": "code",
   "execution_count": 3,
   "id": "5d991a2a-8425-43b0-b117-32c7857d60c8",
   "metadata": {},
   "source": [
    "legends = pd.read_csv(tables_path + 'AWS_Open_Data_Clinical_Legend.csv')\n",
    "\n",
    "calc_findings_codes = (legends[legends['Header in export'].str.contains('calcfind')])[['Meaning','Code']].values\n",
    "calc_distrib_codes = (legends[legends['Header in export'].str.contains('calcdistri')])[['Meaning','Code']].values\n",
    "\n",
    "## Possible calcification findings and it's codes\n",
    "print(calc_findings_codes)\n",
    "\n",
    "## Possible calcification distribution types and it's codes\n",
    "print(calc_distrib_codes)"
   ],
   "outputs": []
  },
  {
   "cell_type": "markdown",
   "id": "3456400c-48f6-4315-a507-36ce572e28fc",
   "metadata": {},
   "source": [
    "#### Find the calcification findings in the clinical data table"
   ]
  },
  {
   "cell_type": "code",
   "execution_count": 266,
   "id": "9ba51633-499c-41bd-86d9-583432a50e05",
   "metadata": {},
   "source": [
    "data = pd.read_csv(tables_path + 'EMBED_OpenData_clinical.csv', low_memory=False)\n",
    "\n",
    "calc_findings = (data[((data['calcfind'].notna() | data['calcdistri'].notna())) & data['path_severity'].notna()])[['Unnamed: 0','empi_anon','acc_anon','side','calcfind','calcdistri','otherfind','numfind','path_severity','age_at_study', 'ETHNICITY_DESC']]"
   ],
   "outputs": []
  },
  {
   "cell_type": "markdown",
   "id": "335bec1f-be76-4dff-a08e-2ea5b65e94ac",
   "metadata": {},
   "source": [
    "#### Find the pictures containing ROI information and no special view then merge it with the calcification findings"
   ]
  },
  {
   "cell_type": "code",
   "execution_count": 5,
   "id": "d0d82460-6ed4-4e5f-8c15-780fe2b92b18",
   "metadata": {},
   "source": [
    "metadata = (pd.read_csv(tables_path + 'EMBED_OpenData_metadata_reduced.csv', low_memory=False))\n",
    "\n",
    "metadata_with_ROI = metadata[(metadata['ROI_coords'].str.contains('\\d', regex=True) & (metadata['spot_mag'] != 1.0))]\n",
    "\n",
    "calc_findings = calc_findings.rename(columns={'side':'ImageLateralityFinal'})\n",
    "calc_findings = pd.merge(calc_findings, metadata_with_ROI, on=['empi_anon','acc_anon','ImageLateralityFinal'])\n",
    "\n",
    "calc_findings = calc_findings[['empi_anon','acc_anon','anon_dicom_path','ImageLateralityFinal','ROI_coords','calcfind','calcdistri','path_severity','spot_mag','age_at_study', 'ETHNICITY_DESC']].copy()\n",
    "\n",
    "calc_findings.loc[:, 'relative_dcm_path'] = calc_findings['anon_dicom_path'].copy()\n",
    "calc_findings.loc[:, 'relative_dcm_path'] = calc_findings['relative_dcm_path'].str.split('/')\n",
    "calc_findings.loc[:, 'relative_dcm_path'] = calc_findings['relative_dcm_path'].apply(lambda x: '/'.join(x[7:]))\n",
    "\n",
    "with open(data_path + 'calc_findings_full.csv', 'w') as f:\n",
    "    (calc_findings).to_csv(f, index=False)\n",
    "\n",
    "with open(data_path + 'calc_findings_path.csv', 'w') as f:\n",
    "    (calc_findings['relative_dcm_path']).to_csv(f, index=False)\n",
    "\n",
    "print(calc_findings)"
   ],
   "outputs": []
  },
  {
   "cell_type": "markdown",
   "id": "cce1c690-b350-4cf8-a502-b3c9db13edb3",
   "metadata": {},
   "source": [
    "#### Pulling the images using aws"
   ]
  },
  {
   "cell_type": "code",
   "execution_count": 10,
   "id": "0487d9de-4a90-494c-9e13-e55cd4798d36",
   "metadata": {},
   "source": [
    "%%bash -s \"$image_dest_path\" \"{data_path}calc_findings_path.csv\"\n",
    "\n",
    "dcm_dest_path=\"$1\"\n",
    "dcm_paths=\"$2\"\n",
    "\n",
    "tail -n +2 $dcm_paths | while IFS= read -r line; do\n",
    "    relative_path=$(echo \"$line\" | awk -v OFS='/' '{$1=$1; print}')\n",
    "    dcm_name=$(echo \"$relative_path\" | cut -d '/' -f 3-)\n",
    "\n",
    "    echo \"s3://embed-dataset-open/images/$relative_path\"\n",
    "    # aws s3 cp \"s3://embed-dataset-open/images/$relative_path\" \"${dcm_dest_path}/$dcm_name\" --profile my-dev-profile\n",
    "done"
   ],
   "outputs": []
  },
  {
   "cell_type": "markdown",
   "id": "5c021e40-a6e1-482b-8099-f158715c84c3",
   "metadata": {},
   "source": [
    "#### Convert dcm to png (with the code of the EMBED repository)"
   ]
  },
  {
   "cell_type": "code",
   "execution_count": 28,
   "id": "71f87e7b-3768-42a5-9929-19ed74fe8a7e",
   "metadata": {},
   "source": [
    "import pydicom\n",
    "import numpy as np\n",
    "import pandas as pd\n",
    "import png\n",
    "import math\n",
    "from PIL import Image\n",
    "from pathlib import Path"
   ],
   "outputs": []
  },
  {
   "cell_type": "code",
   "execution_count": 29,
   "id": "216c5512-0d3f-4c45-955c-a5ff98151921",
   "metadata": {},
   "source": [
    "# Variables\n",
    "image_path = image_dest_path + '-png/'"
   ],
   "outputs": []
  },
  {
   "cell_type": "code",
   "execution_count": 30,
   "id": "d2544d93-ec42-4c33-90c7-909c845b8cbc",
   "metadata": {},
   "source": [
    "# Get DICOM image metadata\n",
    "class DCM_Tags():\n",
    "    def __init__(self, img_dcm):\n",
    "        try:\n",
    "            self.laterality = img_dcm.ImageLaterality\n",
    "        except AttributeError:\n",
    "            self.laterality = np.nan\n",
    "            \n",
    "        try:\n",
    "            self.view = img_dcm.ViewPosition\n",
    "        except AttributeError:\n",
    "            self.view = np.nan\n",
    "            \n",
    "        try:\n",
    "            self.orientation = img_dcm.PatientOrientation\n",
    "        except AttributeError:\n",
    "            self.orientation = np.nan\n",
    "\n",
    "# Check whether DICOM should be flipped\n",
    "def check_dcm(imgdcm):\n",
    "    # Get DICOM metadata\n",
    "    tags = DCM_Tags(imgdcm)\n",
    "    \n",
    "    # If image orientation tag is defined\n",
    "    if ~pd.isnull(tags.orientation):\n",
    "        # CC view\n",
    "        if tags.view == 'CC':\n",
    "            if tags.orientation[0] == 'P':\n",
    "                flipHorz = True\n",
    "            else:\n",
    "                flipHorz = False\n",
    "            \n",
    "            if (tags.laterality == 'L') & (tags.orientation[1] == 'L'):\n",
    "                flipVert = True\n",
    "            elif (tags.laterality == 'R') & (tags.orientation[1] == 'R'):\n",
    "                flipVert = True\n",
    "            else:\n",
    "                flipVert = False\n",
    "        \n",
    "        # MLO or ML views\n",
    "        elif (tags.view == 'MLO') | (tags.view == 'ML'):\n",
    "            if tags.orientation[0] == 'P':\n",
    "                flipHorz = True\n",
    "            else:\n",
    "                flipHorz = False\n",
    "            \n",
    "            if (tags.laterality == 'L') & ((tags.orientation[1] == 'H') | (tags.orientation[1] == 'HL')):\n",
    "                flipVert = True\n",
    "            elif (tags.laterality == 'R') & ((tags.orientation[1] == 'H') | (tags.orientation[1] == 'HR')):\n",
    "                flipVert = True\n",
    "            else:\n",
    "                flipVert = False\n",
    "        \n",
    "        # Unrecognized view\n",
    "        else:\n",
    "            flipHorz = False\n",
    "            flipVert = False\n",
    "            \n",
    "    # If image orientation tag is undefined\n",
    "    else:\n",
    "        # Flip RCC, RML, and RMLO images\n",
    "        if (tags.laterality == 'R') & ((tags.view == 'CC') | (tags.view == 'ML') | (tags.view == 'MLO')):\n",
    "            flipHorz = True\n",
    "            flipVert = False\n",
    "        else:\n",
    "            flipHorz = False\n",
    "            flipVert = False\n",
    "            \n",
    "    return flipHorz, flipVert\n",
    "\n",
    "# Rescale the intensity of the image to get heterogene images with the bit depth of 14\n",
    "def rescale_to_8bit(image_array):\n",
    "    upper_percentile = np.percentile(image_array.flatten(), 98) # original_max = np.max(image_array)\n",
    "    lower_percentile = np.percentile(image_array.flatten(), 2) # original_min = np.min(image_array)\n",
    "    # max_on_14bit = 16383\n",
    "    max = 255\n",
    "    rescaled_array = (image_array - lower_percentile) / (upper_percentile - lower_percentile)\n",
    "    rescaled_array[rescaled_array < 0] = 0\n",
    "    rescaled_array[rescaled_array > 1] = 1\n",
    "    # rescaled_array = np.round((image_array - original_min) / (original_max - original_min) * max_on_14bit).astype(int)\n",
    "    return np.round(rescaled_array * 255).astype(np.uint8)\n",
    "\n",
    "def generate_png_path(dcm_path):\n",
    "    # Get new file name\n",
    "    split_fn = dcm_path[:-4].split('/')\n",
    "    new_fn = f\"{split_fn[-1]}_conv.png\"\n",
    "    return image_path + new_fn\n",
    "\n",
    "# Save DICOM pixel array as PNG\n",
    "def save_dcm_image_as_png(image, png_filename, bitdepth=8):\n",
    "    with open(png_filename, 'wb') as f:\n",
    "        rescaled = rescale_to_8bit(image)\n",
    "        writer = png.Writer(height=rescaled.shape[0], \n",
    "                            width=rescaled.shape[1], \n",
    "                            bitdepth=bitdepth, \n",
    "                            greyscale=True)\n",
    "        writer.write(f, rescaled.tolist())\n",
    "\n"
   ],
   "outputs": []
  },
  {
   "cell_type": "code",
   "execution_count": 31,
   "id": "f794279c-f596-46f5-8749-a577f1ae6793",
   "metadata": {},
   "source": [
    "def generate_png_path(dcm_path):\n",
    "    # Get new file name\n",
    "    split_fn = dcm_path[:-4].split('/')\n",
    "    new_fn = f\"{split_fn[-1]}_conv.png\"\n",
    "    return image_path + new_fn"
   ],
   "outputs": []
  },
  {
   "cell_type": "code",
   "execution_count": 32,
   "id": "2ef5d542-826d-41cd-a2a8-83187eb9aa4d",
   "metadata": {},
   "source": [
    "# Convert list of DICOMs to PNGs\n",
    "def process_dcm_list(findings_df):\n",
    "    dcm_list = findings_df['full_dcm_path']\n",
    "    png_list = findings_df['full_png_path']\n",
    "    \n",
    "    for i, dcm_path in enumerate(dcm_list):    \n",
    "        if not Path(png_list[i]).exists():\n",
    "            print(f\"Processing DICOM #{i}...\")\n",
    "            \n",
    "            # Load DICOM\n",
    "            dcm = pydicom.dcmread(dcm_path)\n",
    "            img = dcm.pixel_array\n",
    "            \n",
    "            # Check if a horizontal flip is necessary\n",
    "            horz, _ = check_dcm(dcm)\n",
    "            if horz:\n",
    "                # Flip img horizontally\n",
    "                img = np.fliplr(img)\n",
    "            \n",
    "            # Save PNG            \n",
    "            save_dcm_image_as_png(img, png_list[i])"
   ],
   "outputs": []
  },
  {
   "cell_type": "code",
   "execution_count": 33,
   "id": "3b521f38-94e7-434a-93f3-f9805a3ac2bd",
   "metadata": {},
   "source": [
    "def extract_images(data_file_name, destination_library):\n",
    "    # Provide a list of DICOM paths and a target directory\n",
    "    dcm_list = []\n",
    "    df_path = f'{data_path}{data_file_name}.csv'\n",
    "    df = pd.read_csv(df_path)\n",
    "    \n",
    "    for index, row in df.iterrows():\n",
    "        path = destination_library  + '/' + row['relative_dcm_path']\n",
    "        if Path(path).exists():\n",
    "            dcm_list.append(path)\n",
    "    \n",
    "    # Insert dicom path\n",
    "    df.loc[:,'full_dcm_path'] = dcm_list\n",
    "        \n",
    "    # Insert png path\n",
    "    df.loc[:,'full_png_path'] = df['full_dcm_path'].copy()\n",
    "    df.loc[:,'full_png_path'] = df['full_png_path'].apply( lambda x: generate_png_path(x))\n",
    "    \n",
    "    with open(df_path, 'w') as f:\n",
    "        (df).to_csv(f, index=False)\n",
    "    \n",
    "    # Convert DICOMs\n",
    "    process_dcm_list(df)\n",
    "\n",
    "    return df"
   ],
   "outputs": []
  },
  {
   "cell_type": "code",
   "execution_count": 80,
   "id": "be3907a2-4edf-4408-8ecc-1a91850d8d75",
   "metadata": {},
   "source": [
    "calc_findings = extract_images('calc_findings_full', image_dest_path)"
   ],
   "outputs": []
  },
  {
   "cell_type": "markdown",
   "id": "96ee76de-39d7-434d-9631-f95c046ccd8a",
   "metadata": {},
   "source": [
    "### Examine pictures' intensity and the quality of the ROI "
   ]
  },
  {
   "cell_type": "code",
   "execution_count": 9,
   "id": "7d575e39-a4dd-4198-a9d0-8f9cdfa90992",
   "metadata": {},
   "source": [
    "calc_findings = pd.read_csv(data_path + 'calc_findings_full.csv')\n",
    "\n",
    "import math\n",
    "from PIL import Image"
   ],
   "outputs": []
  },
  {
   "cell_type": "markdown",
   "id": "71b0ea1d-d3a0-447d-b011-f2d7a50fae25",
   "metadata": {},
   "source": [
    "#### Make histogram of the intensities of the pictures"
   ]
  },
  {
   "cell_type": "code",
   "execution_count": 10,
   "id": "94808b52-cea5-4571-8c51-e0dbd4920049",
   "metadata": {},
   "source": [
    "import matplotlib.pyplot as plt\n",
    "from PIL import Image"
   ],
   "outputs": []
  },
  {
   "cell_type": "code",
   "execution_count": 11,
   "id": "c046ca60-4091-4531-8000-c547299f0b11",
   "metadata": {},
   "source": [
    "def calculate_intensity(pixel_array):\n",
    "    # Drop the part not containing tissues\n",
    "    pixel_array = np.array(pixel_array)\n",
    "    pixel_array = pixel_array[pixel_array > 1.5]\n",
    "    intensity = np.mean(pixel_array)\n",
    "    return intensity"
   ],
   "outputs": []
  },
  {
   "cell_type": "code",
   "execution_count": 12,
   "id": "1a451ea8-14e9-4b75-8112-5b676f5c28b2",
   "metadata": {},
   "source": [
    "def calculate_intensity_of_png(calc_findings):\n",
    "    intensities_array = []\n",
    "    png_list = calc_findings['full_png_path'].tolist()\n",
    "    \n",
    "    print(f'Calculating intensitiy for {len(png_list)} png image')\n",
    "    for index in range(len(png_list)):\n",
    "        print(f'{index + 1} / {len(png_list)}\\nCalculating intensity for image {png_list[index]}\\n...')\n",
    "        # Get pixel array from dicom path\n",
    "        image = Image.open(png_list[index])\n",
    "\n",
    "        pixel_array = np.array(image)\n",
    "        intensity = calculate_intensity(pixel_array)\n",
    "\n",
    "        print(f'Intensity is {intensity}\\n')\n",
    "        intensities_array.append(intensity)        \n",
    "\n",
    "    return intensities_array"
   ],
   "outputs": []
  },
  {
   "cell_type": "markdown",
   "id": "901bff8c-696e-46a3-8157-3f77a7799afa",
   "metadata": {},
   "source": [
    "Only calculate intensity for each picture if our datatable don't contain it already, because this may take time"
   ]
  },
  {
   "cell_type": "code",
   "execution_count": 84,
   "id": "fa19f99d-0661-4510-a2b1-c7384e92f461",
   "metadata": {
    "scrolled": true
   },
   "source": [
    "## Calculate intensities for each image and append it to the DataFrame this may take a while\n",
    "intensities_array = None\n",
    "intensities_array = calculate_intensity_of_png(calc_findings)"
   ],
   "outputs": []
  },
  {
   "cell_type": "code",
   "execution_count": 55,
   "id": "3f1c6ad9-90d9-46c9-84aa-449701773335",
   "metadata": {},
   "source": [
    "image = Image.open('/media/szelesteya/F824D4D024D492CC/EMBED-images/all-calc-with-roi-reduced-png/1.2.826.0.1.3680043.8.498.10084868060616841395708036269303740957_conv.png')\n",
    "plt.hist(np.array(image).flatten())\n",
    "plt.show()\n",
    "calculate_intensity(image)"
   ],
   "outputs": []
  },
  {
   "cell_type": "code",
   "execution_count": 56,
   "id": "90150d92-c07c-4163-90ee-89fd27b6bd99",
   "metadata": {},
   "source": [
    "#intensities_cut_array = intensities_array[~(intensities_array > 1000)]\n",
    "calc_findings = pd.read_csv(data_path + 'calc_findings_full.csv')\n",
    "\n",
    "if intensities_array is None:\n",
    "    intensities_array = calc_findings['intensity'].tolist()\n",
    "\n",
    "hist, bins = np.histogram(intensities_array)\n",
    "plt.stairs(hist, bins, fill='True')\n",
    "plt.xlabel('Average Intensity')\n",
    "plt.ylabel('Frequency')\n",
    "plt.title('Histogram of Average Intensity')\n",
    "plt.grid(True)\n",
    "plt.savefig('avg_intensity_histogram.png')"
   ],
   "outputs": []
  },
  {
   "cell_type": "code",
   "execution_count": 85,
   "id": "e5d14831-6c2a-4c78-9f63-6f8b5fd9dd72",
   "metadata": {},
   "source": [
    "# Insert intensities in the DataFrame and save the histogram\n",
    "calc_findings.loc[:,'intensity'] = intensities_array\n",
    "min_intensity = bins[np.where(hist == np.max(hist))]\n",
    "calc_findings = calc_findings[calc_findings['intensity'] > min_intensity[0]]\n",
    "\n",
    "with open(data_path + 'calc_findings_full.csv', 'w') as f:\n",
    "    (calc_findings).to_csv(f, index=False)"
   ],
   "outputs": []
  },
  {
   "cell_type": "code",
   "execution_count": null,
   "id": "7e6127a8-f695-488d-80fb-be5f75930146",
   "metadata": {},
   "source": [],
   "outputs": []
  },
  {
   "cell_type": "code",
   "execution_count": null,
   "id": "633ecc2c-e2e5-4805-bfe3-614d140b09cb",
   "metadata": {},
   "source": [],
   "outputs": []
  },
  {
   "cell_type": "markdown",
   "id": "3e457f9d-0460-43bf-b57f-5ddb6f8e7ddf",
   "metadata": {},
   "source": [
    "#### Classifying the calcifications and showcase ROI with minimalistic GUI"
   ]
  },
  {
   "cell_type": "code",
   "execution_count": 18,
   "id": "126ae34c-1d00-401f-904f-f05cfcdd65a0",
   "metadata": {},
   "source": [
    "import matplotlib.pyplot as plt\n",
    "import matplotlib.patches as patches\n",
    "import numpy as np\n",
    "from PIL import Image\n",
    "\n",
    "calc_findings = pd.read_csv(data_path + 'calc_findings_full.csv')"
   ],
   "outputs": []
  },
  {
   "cell_type": "code",
   "execution_count": 19,
   "id": "df067b82-5670-4e1c-86bd-99dcd8940952",
   "metadata": {},
   "source": [
    "def parse_ROI(roi_coords_row):\n",
    "    roi_coords_array = roi_coords_row[2:-1].split('(')\n",
    "    roi_rects = []\n",
    "    \n",
    "    for i in range(len(roi_coords_array)):\n",
    "        roi_coords_str = roi_coords_array[i].split(')')[0].replace(\" \",\"\").split(',')\n",
    "        if \"\" not in roi_coords_str:\n",
    "            try:\n",
    "                roi_coords = [eval(j.replace('[', '').replace(']','')) for j in roi_coords_str]\n",
    "    \n",
    "                x_min = roi_coords[1]\n",
    "                y_min = roi_coords[0]\n",
    "                x_max = roi_coords[3]\n",
    "                y_max = roi_coords[2]\n",
    "                \n",
    "                roi_rects.append([x_min, y_min, x_max, y_max])\n",
    "            except SyntaxError:\n",
    "                print(roi_coords_str)\n",
    "\n",
    "    return roi_rects"
   ],
   "outputs": []
  },
  {
   "cell_type": "code",
   "execution_count": 25,
   "id": "0a607829-d7eb-40b4-982f-5048e762c891",
   "metadata": {},
   "source": [
    "def showcase_ROI(calcfinding_row, save):\n",
    "    image = Image.open(calcfinding_row['full_png_path'])\n",
    "    image_array = np.array(image)\n",
    "        \n",
    "    path = (image_figure_path + '/' + '.'.join(calcfinding_row['relative_dcm_path'].split('/')))[:-4]\n",
    "    # path = calcfinding_row['resized_path']\n",
    "    \n",
    "    only_ROI_arrays = []\n",
    "    \n",
    "    # Coordinate(s) of any detected ROI on the image, represented as a list of lists. \n",
    "    # Sublists contains corner coordinates for ROI in the format ‘ymin, xmin, ymax, xmax’.\n",
    "    roi_coords_array = parse_ROI(calcfinding_row['ROI_coords'])\n",
    "\n",
    "    aspect_ratio = image_array.shape[1] / image_array.shape[0]\n",
    "    fig_all, axis_all = plt.subplots(figsize=(4*aspect_ratio, 4))\n",
    "    axis_all.imshow(image_array, cmap='gray')\n",
    "    \n",
    "    for roi in roi_coords_array:\n",
    "        x_min = roi[0]\n",
    "        x_max = roi[2]\n",
    "        y_min = roi[1]\n",
    "        y_max = roi[3]\n",
    "        rectangle = patches.Rectangle((x_min, y_min), x_max - x_min, y_max - y_min, linewidth=1, edgecolor='r', facecolor='none')\n",
    "        axis_all.add_patch(rectangle)\n",
    "        \n",
    "        only_ROI_arrays.append(image_array[y_min:y_max, x_min:x_max])\n",
    "\n",
    "    axis_all.set_aspect('equal', adjustable='datalim')\n",
    "    plt.axis('off')\n",
    "    if save:\n",
    "        plt.savefig(path + '_all.png', bbox_inches='tight', pad_inches=0, dpi=300)\n",
    "    else:\n",
    "        plt.imshow(image_array, cmap='gray')\n",
    "\n",
    "    fig, axs = plt.subplots(1, len(only_ROI_arrays), figsize=(15, 5))\n",
    "    fig.subplots_adjust(wspace=0.1)\n",
    "    for i in range(len(roi_coords_array)):\n",
    "        if len(roi_coords_array) > 1:\n",
    "            axs[i].axis('off')\n",
    "            axs[i].imshow(only_ROI_arrays[i], cmap='gray')\n",
    "        else:\n",
    "            axs.axis('off')\n",
    "            axs.imshow(only_ROI_arrays[i], cmap='gray')\n",
    "        \n",
    "    if save:\n",
    "        fig.savefig(path + '_rois.png',  bbox_inches='tight', pad_inches=0, dpi=300)"
   ],
   "outputs": []
  },
  {
   "cell_type": "markdown",
   "id": "b0ca8362-e91d-4708-8a96-a14203c1be6a",
   "metadata": {},
   "source": [
    "I used a GUI to find images for my purposes more efficiently"
   ]
  },
  {
   "cell_type": "code",
   "execution_count": 26,
   "id": "1351d24c-ca66-4014-b1eb-32c0414805c6",
   "metadata": {},
   "source": [
    "import ipywidgets as widgets\n",
    "from IPython.display import display"
   ],
   "outputs": []
  },
  {
   "cell_type": "code",
   "execution_count": 27,
   "id": "31d6890b-4f2d-456d-87f2-ecb89d716694",
   "metadata": {},
   "source": [
    "value = 0"
   ],
   "outputs": []
  },
  {
   "cell_type": "code",
   "execution_count": 28,
   "id": "4cf472e5-2ea1-4b2a-be6b-0ee548f51d21",
   "metadata": {},
   "source": [
    "def on_value_change(num):\n",
    "    global value\n",
    "    value = num\n",
    "    showcase_ROI(calc_findings.loc[value,:], False)        \n",
    "    print(calc_findings.loc[value,:])\n",
    "\n",
    "def save_figure(b):\n",
    "    global value\n",
    "    with button_output:\n",
    "        showcase_ROI(calc_findings.loc[value,:], True)"
   ],
   "outputs": []
  },
  {
   "cell_type": "code",
   "execution_count": 29,
   "id": "a9245c45-cc3d-428d-ae28-324977267ea7",
   "metadata": {
    "scrolled": true
   },
   "source": [
    "# Create a slider for input\n",
    "number_slider = widgets.IntSlider(value=1122, min=1, max=1959, description='Number:')\n",
    "\n",
    "button_save = widgets.Button(description=\"Save figures\")\n",
    "button_save.on_click(save_figure)\n",
    "\n",
    "button_output = widgets.Output()\n",
    "\n",
    "# Create an interactive output that updates when the slider value changes\n",
    "slider_output = widgets.interactive_output(on_value_change, {'num': number_slider})\n",
    "\n",
    "# Display the slider and the output\n",
    "display(number_slider, slider_output)\n",
    "display(button_save, button_output)"
   ],
   "outputs": []
  },
  {
   "cell_type": "markdown",
   "id": "029caad7-f51c-410a-85db-ef8106479fb6",
   "metadata": {},
   "source": [
    "### Histogram Equalizations"
   ]
  },
  {
   "cell_type": "markdown",
   "id": "a9bcbfd8-2c0e-4b16-b075-35d0d5e007be",
   "metadata": {},
   "source": [
    "https://pyimagesearch.com/2021/02/01/opencv-histogram-equalization-and-adaptive-histogram-equalization-clahe/"
   ]
  },
  {
   "cell_type": "code",
   "execution_count": 19,
   "id": "859d17f6-dbd2-4e09-afec-5ce0a3c27ff9",
   "metadata": {},
   "source": [
    "import cv2 as cv\n",
    "import os\n",
    "import imageio.v3 as iio\n",
    "\n",
    "equalized_img_path = image_dest_path + '-equalized'\n",
    "clahe_img_path = image_dest_path + '-clahe'\n",
    "calc_findings = pd.read_csv(data_path + 'calc_findings_full.csv')"
   ],
   "outputs": []
  },
  {
   "cell_type": "markdown",
   "id": "2ea74a51-9a13-4139-a9e2-d90e1bdc1397",
   "metadata": {},
   "source": [
    "#### Histrogram Equalization"
   ]
  },
  {
   "cell_type": "code",
   "execution_count": 20,
   "id": "df5323d1-e5fe-4d71-b78a-4373fd38d76e",
   "metadata": {},
   "source": [
    "def hist_eq(image_source, image_destination):\n",
    "    img = cv.imread(image_source, cv.IMREAD_GRAYSCALE)\n",
    "    equ = cv.equalizeHist(img)\n",
    "    res = np.array(equ)\n",
    "    cv.imwrite(image_destination, res)"
   ],
   "outputs": []
  },
  {
   "cell_type": "code",
   "execution_count": 21,
   "id": "6ae5cdaf-7b93-4063-90d8-e3411b450f12",
   "metadata": {},
   "source": [
    "def calculate_intensity_for_png(image_path):\n",
    "    pixel_array = iio.imread(image_path)\n",
    "    return calculate_intensity(pixel_array)"
   ],
   "outputs": []
  },
  {
   "cell_type": "code",
   "execution_count": 41,
   "id": "066b1341-60f8-405b-8df6-26ef2b0b25e4",
   "metadata": {
    "scrolled": true
   },
   "source": [
    "calc_findings['equalized_img_path'] = calc_findings['full_png_path']\n",
    "calc_findings['intensity_after_eq'] = calc_findings['intensity']\n",
    "intensity_array = []\n",
    "\n",
    "for i in range(len(calc_findings.loc[::10, 'full_png_path'])):\n",
    "    dest = equalized_img_path + f'/{i*10}.jpg'\n",
    "    hist_eq(calc_findings.loc[i*10,'full_png_path'], dest)\n",
    "    calc_findings.loc[i*10,'equalized_img_path'] = dest\n",
    "    calc_findings.loc[i*10,'intensity_after_eq'] = calculate_intensity_for_png(dest)\n",
    "    intensity_array.append(calc_findings.loc[i*10,'intensity_after_eq'])\n",
    "    print(calc_findings.loc[i*10,'intensity_after_eq'])"
   ],
   "outputs": []
  },
  {
   "cell_type": "code",
   "execution_count": 42,
   "id": "1d09ab6d-2fe7-4ef8-854c-2ee8c8afb5ae",
   "metadata": {},
   "source": [
    "plt.hist(intensity_array, bins=20, color='blue')\n",
    "plt.xlabel('Average Intensity')\n",
    "plt.ylabel('Frequency')\n",
    "plt.title('Histogram of Average Intensity After Equalization')\n",
    "plt.grid(True)\n",
    "plt.savefig('avg_intensity_equalized_histogram.png')"
   ],
   "outputs": []
  },
  {
   "cell_type": "markdown",
   "id": "741db693-c5a3-4f15-8054-7672fd76bebf",
   "metadata": {},
   "source": [
    "#### Adaptive Histogram Equalization (CLAHE)"
   ]
  },
  {
   "cell_type": "code",
   "execution_count": 22,
   "id": "a9f9cacc-5327-48b8-a096-c1f7df070cd3",
   "metadata": {},
   "source": [
    "def clahe_image(image_source, image_destination):\n",
    "    image = cv.imread(image_source)\n",
    "    image_grey = cv.cvtColor(image, cv.COLOR_BGR2GRAY)\n",
    "\n",
    "    clahe = cv.createCLAHE(clipLimit=5)\n",
    "    final_img = clahe.apply(image_grey)\n",
    "    cv.imwrite(image_destination, final_img)"
   ],
   "outputs": []
  },
  {
   "cell_type": "code",
   "execution_count": 97,
   "id": "08ddf3be-5863-44c1-a655-9d4360b8fd80",
   "metadata": {},
   "source": [
    "calc_findings['clahe_img_path'] = calc_findings['full_png_path']\n",
    "calc_findings['intensity_after_clahe'] = calc_findings['intensity']\n",
    "intensity_array = []\n",
    "\n",
    "for i in range(len(calc_findings.loc[:, 'full_png_path'])):\n",
    "    dest = clahe_img_path + f'/{i}.jpg'\n",
    "    clahe_image(calc_findings.loc[i,'full_png_path'], dest)\n",
    "    calc_findings.loc[i,'clahe_img_path'] = dest\n",
    "    calc_findings.loc[i,'intensity_after_clahe'] = calculate_intensity_of_png(dest)\n",
    "    intensity_array.append(calc_findings.loc[i,'intensity_after_clahe'])"
   ],
   "outputs": []
  },
  {
   "cell_type": "code",
   "execution_count": 45,
   "id": "8327651b-9b06-4099-ac63-f80b90a5afaa",
   "metadata": {
    "scrolled": true
   },
   "source": [
    "plt.hist(intensity_array, bins=20, color='blue')\n",
    "plt.xlabel('Average Intensity')\n",
    "plt.ylabel('Frequency')\n",
    "plt.title('Histogram of Average Intensity After Running CLAHE algorithm')\n",
    "plt.grid(True)\n",
    "plt.savefig('avg_intensity_clahe_histogram.png')"
   ],
   "outputs": []
  },
  {
   "cell_type": "markdown",
   "id": "12316c5d-09db-4af4-82b0-81bb696a97d6",
   "metadata": {},
   "source": [
    "Saving the path of new images and intensities"
   ]
  },
  {
   "cell_type": "code",
   "execution_count": 46,
   "id": "286f6d98-f33a-41aa-9c29-8bc12d46bcb9",
   "metadata": {},
   "source": [
    "with open(data_path + 'calc_findings_full.csv', 'w') as f:\n",
    "    (calc_findings).to_csv(f, index=False)"
   ],
   "outputs": []
  },
  {
   "cell_type": "markdown",
   "id": "11d664b9-462a-4e6d-9528-faed8f5a9e68",
   "metadata": {},
   "source": [
    "#### "
   ]
  },
  {
   "cell_type": "markdown",
   "id": "784b94f8-622f-442a-af90-bc4e1bd01129",
   "metadata": {},
   "source": [
    "### Adding negative result to the dataset"
   ]
  },
  {
   "cell_type": "code",
   "execution_count": 5,
   "id": "41cd6f6d-606a-4079-92ad-6c31ffa26777",
   "metadata": {},
   "source": [
    "data = pd.read_csv(tables_path + 'EMBED_OpenData_clinical.csv', low_memory=False)\n",
    "\n",
    "## Around \n",
    "negative_data = data[(data.asses.isin(['N', 'B'])) & \n",
    "                    (~data['path_severity'].notna()) & \n",
    "                    data.desc.str.contains('screen', case=False)][['Unnamed: 0','empi_anon','acc_anon','side','calcfind','calcdistri','otherfind','numfind','path_severity','age_at_study','ETHNICITY_DESC']]\n",
    "\n",
    "\n",
    "negative_data = negative_data.rename(columns={'side':'ImageLateralityFinal'})\n",
    "\n",
    "metadata = (pd.read_csv(tables_path + 'EMBED_OpenData_metadata_reduced.csv', low_memory=False))\n",
    "metadata_reduced = metadata[metadata['spot_mag'] != 1.0][['empi_anon','acc_anon','ImageLateralityFinal','anon_dicom_path']]\n",
    "\n",
    "negative_data = pd.merge(negative_data, metadata_reduced, on=['empi_anon','acc_anon','ImageLateralityFinal'])\n",
    "\n",
    "negative_data = negative_data[['empi_anon','acc_anon','anon_dicom_path','ImageLateralityFinal','calcfind','calcdistri','age_at_study', 'ETHNICITY_DESC']].copy()\n",
    "\n",
    "negative_data.loc[:, 'relative_dcm_path'] = negative_data['anon_dicom_path'].copy()\n",
    "negative_data.loc[:, 'relative_dcm_path'] = negative_data['relative_dcm_path'].str.split('/')\n",
    "negative_data.loc[:, 'relative_dcm_path'] = negative_data['relative_dcm_path'].apply(lambda x: '/'.join(x[7:]))"
   ],
   "outputs": []
  },
  {
   "cell_type": "code",
   "execution_count": 14,
   "id": "219cfbc2-1bfd-4ceb-bcf4-04f3ad3dcd75",
   "metadata": {},
   "source": [
    "print(len(negative_data['empi_anon'].unique()))"
   ],
   "outputs": []
  },
  {
   "cell_type": "markdown",
   "id": "bb8b4e35-27ca-4390-899a-31cde1aaf294",
   "metadata": {},
   "source": [
    "#### Examining the Ethnicity and age distribution"
   ]
  },
  {
   "cell_type": "code",
   "execution_count": 12,
   "id": "f22d778d-e63e-4bad-99f7-6a259909bd09",
   "metadata": {},
   "source": [
    "negative_sampled = negative_data.sample(2000)\n",
    "\n",
    "ethnicity_negative = negative_sampled['ETHNICITY_DESC'].value_counts().reset_index()\n",
    "ethnicity_negative.columns = ['Ethnicity','Frequency']\n",
    "ethnicity_positive = calc_findings['ETHNICITY_DESC'].value_counts().reset_index()\n",
    "ethnicity_positive.columns = ['Ethnicity','Frequency']\n",
    "\n",
    "plt.bar(ethnicity_negative['Ethnicity'], ethnicity_negative['Frequency'])\n",
    "plt.title('Ethnicity distribution for negative screenings')\n",
    "plt.xticks(rotation=70)\n",
    "plt.show()\n",
    "\n",
    "plt.bar(ethnicity_positive['Ethnicity'], ethnicity_positive['Frequency'])\n",
    "plt.title('Ethnicity distribution for screenings with calcification')\n",
    "plt.xticks(rotation=70)\n",
    "plt.show()\n",
    "\n",
    "plt.hist(negative_data['age_at_study'])\n",
    "plt.title('Age distribution for negative screenings')\n",
    "plt.show()\n",
    "\n",
    "plt.hist(calc_findings['age_at_study'])\n",
    "plt.title('Age distribution for screenings with calcifications')\n",
    "plt.show()"
   ],
   "outputs": []
  },
  {
   "cell_type": "code",
   "execution_count": 13,
   "id": "46df233b-9e8d-4b38-a86b-a3a6a5c241e4",
   "metadata": {},
   "source": [
    "print(len(negative_sampled['empi_anon'].unique()))"
   ],
   "outputs": []
  },
  {
   "cell_type": "code",
   "execution_count": 15,
   "id": "ed25b514-c073-4ef0-ac16-d0ba1618aa15",
   "metadata": {},
   "source": [
    "with open(data_path + 'negative_full.csv', 'w') as f:\n",
    "    (negative_sampled).to_csv(f, index=False)\n",
    "\n",
    "with open(data_path + 'negative_path.csv', 'w') as f:\n",
    "    (negative_sampled['anon_dicom_path']).to_csv(f, index=False)"
   ],
   "outputs": []
  },
  {
   "cell_type": "code",
   "execution_count": 37,
   "id": "e794191f-3212-4d6b-8f75-e45be0142bb0",
   "metadata": {
    "scrolled": true
   },
   "source": [
    "%%bash -s \"$image_negative_path\" \"{data_path}negative_path.csv\"\n",
    "\n",
    "dcm_dest_path=\"$1\"\n",
    "dcm_paths=\"$2\"\n",
    "\n",
    "tail -n +2 $dcm_paths | while IFS= read -r line; do\n",
    "    relative_path=$(echo \"$line\" | cut -d '/' -f 6-| awk -v OFS='/' '{$1=$1; print}')\n",
    "    dcm_name=$(echo \"$relative_path\" | cut -d '/' -f 3-)\n",
    "\n",
    "    echo \"s3://embed-dataset-open/images/$relative_path\"\n",
    "    aws s3 cp \"s3://embed-dataset-open/images/$relative_path\" \"${dcm_dest_path}/$dcm_name\" --profile my-dev-profile\n",
    "done"
   ],
   "outputs": []
  },
  {
   "cell_type": "code",
   "execution_count": 27,
   "id": "f56c3a9a-397b-4f85-a6f8-bba1e68affdf",
   "metadata": {
    "scrolled": true
   },
   "source": [
    "negative = extract_images('negative_full', image_negative_path)\n",
    "# negative['intensity'] = calculate_intensity_of_png(negative)\n",
    "\n",
    "\n",
    "with open(data_path + 'negative_full.csv', 'w') as f:\n",
    "    (negative).to_csv(f, index=False)"
   ],
   "outputs": []
  },
  {
   "cell_type": "markdown",
   "id": "588efd3a-0adf-4c80-af42-81cee21f8638",
   "metadata": {},
   "source": [
    "#### Concatenate the positive and negative samples"
   ]
  },
  {
   "cell_type": "code",
   "execution_count": 91,
   "id": "4b9baaf2-f0e0-4502-96d7-bd8f5da984c1",
   "metadata": {},
   "source": [
    "all_sample = pd.concat([negative, calc_findings], axis=0)"
   ],
   "outputs": []
  },
  {
   "cell_type": "code",
   "execution_count": 92,
   "id": "3d108e2e-d485-4af3-aff0-3d6d089b8f16",
   "metadata": {},
   "source": [
    "plt.hist(all_sample['intensity'], bins=20, color='blue')\n",
    "plt.xlabel('Average Intensity')\n",
    "plt.ylabel('Frequency')\n",
    "plt.title('Histogram of Average Intensity')\n",
    "plt.grid(True)\n",
    "plt.savefig('avg_intensity_histogram.png')"
   ],
   "outputs": []
  },
  {
   "cell_type": "code",
   "execution_count": 93,
   "id": "3ce4372b-1495-4b93-970e-c8e5b14eae0d",
   "metadata": {},
   "source": [
    "with open(data_path + 'all_sample.csv', 'w') as f:\n",
    "    all_sample.to_csv(f, index=False)"
   ],
   "outputs": []
  },
  {
   "cell_type": "markdown",
   "id": "0795efc7-19b8-4e7f-b5f6-d9127c76de7c",
   "metadata": {},
   "source": [
    "### Cropping and resizing images"
   ]
  },
  {
   "cell_type": "markdown",
   "id": "614aed75-0cbf-4b9f-8a04-8d722a4fb3b0",
   "metadata": {},
   "source": [
    "#### Examining the images and bounding boxes resolution"
   ]
  },
  {
   "cell_type": "code",
   "execution_count": 129,
   "id": "9ebe98e1-cfd4-402c-b4a5-b7afa893e6e4",
   "metadata": {},
   "source": [
    "fix_resolution = [4096, 3328]"
   ],
   "outputs": []
  },
  {
   "cell_type": "code",
   "execution_count": 23,
   "id": "33084a4a-e7d7-4410-b0aa-fcb30aa41b72",
   "metadata": {},
   "source": [
    "def get_sizes_of_ROI(roi_coords_array):\n",
    "    sizes = []\n",
    "\n",
    "    for roi in roi_coords_array:\n",
    "        size_str = f'{roi[2]-roi[0]} x {roi[3] - roi[1]}'\n",
    "        height = roi[2] - roi[0]\n",
    "        width = roi[3] - roi[1]\n",
    "        full_resolution = height * width\n",
    "        diameter = math.sqrt(height ** 2 + width ** 2)\n",
    "        sizes.append([size_str,[height, width], height * width, diameter])\n",
    "\n",
    "    return sizes\n",
    "\n",
    "def get_size_of_image(image_path):\n",
    "    image = Image.open(image_path)\n",
    "    image_array = np.array(image)\n",
    "    height = image_array.shape[0]\n",
    "    width = image_array.shape[1]\n",
    "    full_resolution = height * width\n",
    "    diameter = math.sqrt( height ** 2 + width ** 2)\n",
    "    dark_area = np.sum(image_array == 0)\n",
    "    return [f'{height} x {width}', [height, width], full_resolution, diameter, dark_area]"
   ],
   "outputs": []
  },
  {
   "cell_type": "code",
   "execution_count": 8,
   "id": "f774042d-8cfe-40db-a352-514a7ac8d902",
   "metadata": {},
   "source": [
    "# negative_samples = pd.read_csv(data_path + 'negative_full.csv')\n",
    "calc_findings = pd.read_csv(data_path + 'calc_findings_full.csv')"
   ],
   "outputs": []
  },
  {
   "cell_type": "code",
   "execution_count": 45,
   "id": "52979cf7-7239-4293-a216-ebc3b322ef98",
   "metadata": {},
   "source": [
    "diameters_for_ROI = []\n",
    "diameters_for_image = []\n",
    "ratio_of_ROI = []\n",
    "ratio_of_dark = []\n",
    "\n",
    "for i in range(len(negative_samples)):\n",
    "    if i % 10 == 0:\n",
    "        print(f'{i+1}/{len(negative_samples)}')\n",
    "    png_image_path = negative_sample.loc[i, 'full_png_path'] \n",
    "    image_size = get_size_of_image(png_image_path)\n",
    "    diameters_for_image.append(image_size[3])\n",
    "\n",
    "    negative_sample.loc[i, 'image_size_tuple'] = str(image_size)\n",
    "\n",
    "for i in range(len(calc_findings)):\n",
    "    if i % 10 == 0:\n",
    "        print(f'{i + 1}/{len(calc_findings)}')\n",
    "    roi_coords_str = calc_findings.loc[i,'ROI_coords']\n",
    "    png_image_path = calc_findings.loc[i, 'full_png_path']\n",
    "    image_size = get_size_of_image(png_image_path)\n",
    "    roi_coords = get_sizes_of_ROI(parse_ROI(roi_coords_str))\n",
    "    \n",
    "    calc_findings.loc[i, 'image_size_tuple'] = str(image_size)\n",
    "    calc_findings.loc[i, 'roi_size_tuples'] = str(roi_coords)\n",
    "    \n",
    "    for sizes_tuple in roi_coords:\n",
    "        diameter = sizes_tuple[3]\n",
    "        diameters_for_ROI.append(diameter)"
   ],
   "outputs": []
  },
  {
   "cell_type": "code",
   "execution_count": 46,
   "id": "a10ead5d-783c-48a4-9d42-31ffc37abfad",
   "metadata": {},
   "source": [
    "all_samples = pd.concat([negative_sample, calc_findings], axis=0)"
   ],
   "outputs": []
  },
  {
   "cell_type": "code",
   "execution_count": null,
   "id": "4ee4b071-1ac0-4062-bbcf-a11ed327d1c6",
   "metadata": {},
   "source": [
    "plt.hist(diameters_for_ROI)\n",
    "plt.title('Diameters of bounding rectangles')\n",
    "plt.savefig('diameters_of_ROI')\n",
    "plt.show()\n",
    "plt.hist(diameters_for_image)\n",
    "plt.title('Diameters of whole image')\n",
    "plt.savefig('diameters_of_image')\n",
    "plt.show()"
   ],
   "outputs": []
  },
  {
   "cell_type": "code",
   "execution_count": 172,
   "id": "9b667b61-eb83-4043-b1c1-473a7c64fdad",
   "metadata": {},
   "source": [
    "def show_roi_hist(roi_sizes_tuples, image_size_tuples=None):\n",
    "    ratios_of_ROI = []\n",
    "    diameters_of_ROI = []\n",
    "    \n",
    "    for i, row in enumerate(roi_sizes_tuples):\n",
    "        if image_size_tuples is not None: \n",
    "            image_size_tuple = eval(image_size_tuples[i])\n",
    "            image_size = image_size_tuple[2]\n",
    "        else:\n",
    "            image_size = fix_resolution[0] * fix_resolution[1]\n",
    "            \n",
    "        roi_size_tuples = eval(row)\n",
    "        ratios = []\n",
    "    \n",
    "        for roi_tuple in roi_size_tuples:\n",
    "            ratio = roi_tuple[2] / image_size \n",
    "            diameter = roi_tuple[3]\n",
    "            ratios.append(ratio)\n",
    "            ratios_of_ROI.append(ratio)\n",
    "            diameters_of_ROI.append(diameter)\n",
    "    \n",
    "        calc_findings.loc[i, 'ratios'] = str(ratios)\n",
    "\n",
    "    plt.hist(ratios_of_ROI)\n",
    "    plt.title('Ratios of each ROI bounding rectangle to the whole image')\n",
    "    plt.savefig('ratio_of_roi')\n",
    "    plt.show()\n",
    "\n",
    "    plt.hist(diameters_of_ROI, bins = 30)\n",
    "    plt.title('Diameters of each bounding rectangle')\n",
    "    plt.savefig('diameter_of_roi')\n",
    "    plt.show()"
   ],
   "outputs": []
  },
  {
   "cell_type": "code",
   "execution_count": 173,
   "id": "0bf9173f-f2e0-46fa-8ae0-03a75c996761",
   "metadata": {},
   "source": [
    "show_roi_hist(calc_findings['roi_size_tuples'], calc_findings['image_size_tuple'])"
   ],
   "outputs": []
  },
  {
   "cell_type": "code",
   "execution_count": 47,
   "id": "9c50dedf-a649-4bdf-9f77-68bf3ce2256b",
   "metadata": {},
   "source": [
    "with open(data_path + 'calc_findings_full.csv', 'w') as f:\n",
    "    calc_findings.to_csv(f)\n",
    "\n",
    "with open(data_path + 'negative_full.csv', 'w') as f:\n",
    "    negative_sample.to_csv(f)\n",
    "\n",
    "with open(data_path + 'all_sample_full.csv', 'w') as f:\n",
    "    all_sample.to_csv(f)"
   ],
   "outputs": []
  },
  {
   "cell_type": "code",
   "execution_count": 48,
   "id": "818ab563-0a91-4746-8b49-f2b677b52dde",
   "metadata": {},
   "source": [
    "from collections import Counter"
   ],
   "outputs": []
  },
  {
   "cell_type": "code",
   "execution_count": 49,
   "id": "602e3edd-2815-42d6-b377-bc9fa6791e9e",
   "metadata": {},
   "source": [
    "image_sizes_str = [ eval(tuple)[0] for tuple in all_sample['image_size_tuple'] ]\n",
    "sizes_counted = Counter(image_sizes_str)\n",
    "sizes = pd.Series(sizes_counted).reset_index()\n",
    "sizes.columns = ['Image Size', 'Frequency']\n",
    "\n",
    "resolutions = pd.Series(Counter([ round(eval(tuple)[1][0] / eval(tuple)[1][1], 3) for tuple in all_samples['image_size_tuple'] ])).reset_index()\n",
    "resolutions.columns = ['Resolution', 'Frequency']\n",
    "# print(resolutions)\n",
    "# sizes = sizes.merge(resolutions_counted, on='Frequency')\n",
    "\n",
    "plt.bar(sizes['Image Size'], sizes['Frequency'])\n",
    "for i, size in sizes.iterrows():\n",
    "    plt.text(i, size['Frequency'] + 1, str(size['Frequency']), ha='center', va='bottom')\n",
    "plt.title('Image Sizes')\n",
    "plt.xticks(rotation=70)\n",
    "plt.savefig('sizes')\n",
    "plt.show()\n",
    "\n",
    "plt.figure(figsize=(10,6))\n",
    "plt.bar([str(res) for res in resolutions['Resolution']], resolutions['Frequency'])\n",
    "for i, resolution in resolutions.iterrows():\n",
    "    plt.text(i, resolution['Frequency'] + 1, str(resolution['Frequency'].astype(int)), ha='center', va='bottom')\n",
    "plt.title('Resolutions')\n",
    "plt.xticks(rotation=70)\n",
    "plt.savefig('resolutions')\n",
    "plt.show()"
   ],
   "outputs": []
  },
  {
   "cell_type": "markdown",
   "id": "4c74c1ab-c7ff-4daa-ac8c-d62f5c03aaa7",
   "metadata": {},
   "source": [
    "#### Resizing picures to fix size"
   ]
  },
  {
   "cell_type": "code",
   "execution_count": 30,
   "id": "fa7a2cc8-b316-402a-becd-ac1ab6957521",
   "metadata": {},
   "source": [
    "def resize_calc(i):\n",
    "    image_path = image_resized_path + f'/{i}_pos.png'\n",
    "    \n",
    "    if not Path(image_path).exists():\n",
    "        df_row = calc_findings.loc[i]\n",
    "        png_path = df_row['full_png_path']\n",
    "        size_tuple = eval(df_row['image_size_tuple'])\n",
    "        original_size = size_tuple[1]\n",
    "        width_distortion = float(fix_resolution[0]) / float(original_size[0])\n",
    "        height_distortion = float(fix_resolution[1]) / float(original_size[1])\n",
    "        \n",
    "        roi_coords = parse_ROI(df_row['ROI_coords'])\n",
    "        resized_roi_coords = []\n",
    "    \n",
    "        for j, roi_coords in enumerate(roi_coords):\n",
    "            new_x_min = round(float(roi_coords[0]) * width_distortion)\n",
    "            new_x_max = round(float(roi_coords[2]) * width_distortion)\n",
    "            new_y_min = round(float(roi_coords[1]) * height_distortion)\n",
    "            new_y_max = round(float(roi_coords[3]) * height_distortion)\n",
    "    \n",
    "            resized_roi_coords.append([new_x_min, new_y_min, new_x_max, new_y_max])\n",
    "    \n",
    "        image = Image.open(png_path)\n",
    "        resized_image = image.resize(fix_resolution)\n",
    "        resized_image.save(image_path, 'PNG')\n",
    "    \n",
    "        calc_findings.loc[i,'resized_roi_coords'] = str(resized_roi_coords)\n",
    "        calc_findings.loc[i,'resized_roi_sizes'] = str(get_sizes_of_ROI(resized_roi_coords))\n",
    "        calc_findings.loc[i,'resized_path'] = image_path\n",
    "\n",
    "def resize_negative(i):\n",
    "    image_path = image_resized_path + f'/{i}_neg.png'\n",
    "    \n",
    "    if not Path(image_path).exists():\n",
    "        df_row = negative_sample.loc[i]\n",
    "        png_path = df_row['full_png_path']\n",
    "        size_tuple = eval(df_row['image_size_tuple'])\n",
    "        original_size = size_tuple[1]\n",
    "        wheightidth_distortion = float(fix_resolution[0]) / float(original_size[0])\n",
    "        width_distortion = float(fix_resolution[1]) / float(original_size[1])\n",
    "    \n",
    "        image = Image.open(png_path)\n",
    "        resized_image = image.resize(fix_resolution)\n",
    "        resized_image.save(image_path, 'PNG')\n",
    "        \n",
    "        negative_sample.loc[i,'resized_path'] = image_path    "
   ],
   "outputs": []
  },
  {
   "cell_type": "code",
   "execution_count": 31,
   "id": "426879de-8bb8-4d68-b116-9b9b1bdcb985",
   "metadata": {},
   "source": [
    "calc_length = len(calc_findings)\n",
    "negative_length = len(negative_samples)\n",
    "\n",
    "for i in range(calc_length):\n",
    "    if i % 10 == 0:\n",
    "        print(f'Resizing progression for calc_findings {i+1} / {calc_length}')\n",
    "        \n",
    "    resize_calc(i)\n",
    "\n",
    "for i in range(negative_length):\n",
    "    if i % 10 == 0:\n",
    "        print(f'Resizing progression for negative pictures {i+1} / {negative_length}')\n",
    "        \n",
    "    resize_negative(i)"
   ],
   "outputs": []
  },
  {
   "cell_type": "code",
   "execution_count": 115,
   "id": "d6ea12d1-abb7-4f8d-b6c8-d364a6a5b395",
   "metadata": {},
   "source": [
    "all_samples = pd.concat([negative_sample, calc_findings], axis=0)\n",
    "\n",
    "with open(data_path + 'calc_findings_full.csv', 'w') as f:\n",
    "    calc_findings.to_csv(f)\n",
    "\n",
    "with open(data_path + 'negative_full.csv', 'w') as f:\n",
    "    negative_sample.to_csv(f)\n",
    "\n",
    "with open(data_path + 'all_sample_full.csv', 'w') as f:\n",
    "    all_sample.to_csv(f)"
   ],
   "outputs": []
  },
  {
   "cell_type": "code",
   "execution_count": 174,
   "id": "bdae7d44-9241-48f9-b9a4-de82ae0166d2",
   "metadata": {},
   "source": [
    "show_roi_hist(calc_findings['roi_size_tuples'])"
   ],
   "outputs": []
  },
  {
   "cell_type": "markdown",
   "id": "e0ed596e-1b21-436d-8997-108741c57c83",
   "metadata": {},
   "source": [
    "#### Cropping random images for the final dataset"
   ]
  },
  {
   "cell_type": "code",
   "execution_count": 3,
   "id": "917a53f1-5620-4c9c-9f89-dbe38cc57ac8",
   "metadata": {},
   "source": [
    "final_dataframe = pd.DataFrame()\n",
    "calc_findings = pd.read_csv(data_path + 'calc_findings_full.csv')\n",
    "negative = pd.read_csv(data_path + 'negative_full.csv')"
   ],
   "outputs": []
  },
  {
   "cell_type": "code",
   "execution_count": 219,
   "id": "67fa6e18-680e-4cc5-84ff-8236f7f6b2c3",
   "metadata": {},
   "source": [
    "def crop_positive_image(i):\n",
    "    calc_finding_row = calc_findings.loc[i]\n",
    "    image_array = np.array(Image.open(calc_finding_row['resized_path']))\n",
    "    roi_coords = eval(calc_finding_row['resized_roi_coords'])\n",
    "\n",
    "    for i, roi_coord in enumerate(roi_coords):\n",
    "        x_min = roi_coord[0]\n",
    "        y_min = roi_coord[1]\n",
    "        x_max = roi_coord[2]\n",
    "        y_max = roi_coord[3]\n",
    "        \n",
    "        roi_array = image_array[y_min:y_max,x_min:x_max]\n",
    "        plt.axis('off')\n",
    "        plt.imshow(roi_array, cmap='gray')\n",
    "        plt.show()"
   ],
   "outputs": []
  },
  {
   "cell_type": "code",
   "execution_count": 222,
   "id": "89934d1e-46d3-41ed-9534-36ef318d0b54",
   "metadata": {},
   "source": [
    "crop_positive_image(31)"
   ],
   "outputs": []
  },
  {
   "cell_type": "code",
   "execution_count": 290,
   "id": "9904cf75-f6d6-455c-9c96-f30fd2cd525f",
   "metadata": {},
   "source": [
    "with_path_sev = calc_findings[calc_findings['path_severity'].notna()]\n",
    "plt.hist(with_path_sev['path_severity'])\n",
    "plt.show()"
   ],
   "outputs": []
  },
  {
   "cell_type": "code",
   "execution_count": 4,
   "id": "df06b11d-f351-4e91-9bbb-304dd7950acd",
   "metadata": {},
   "source": [
    "data = pd.read_csv(tables_path + 'EMBED_OpenData_clinical.csv')\n",
    "metadata = pd.read_csv(tables_path + 'EMBED_OpenData_metadata_reduced.csv').rename(columns={'ImageLateralityFinal': 'side'})\n",
    "\n",
    "pathsevs = data[data['path_severity'].notna()]\n",
    "rois = metadata[metadata['ROI_coords'].notna()]\n",
    "all_roi = pathsevs.merge(rois, on=['empi_anon', 'acc_anon','side'])"
   ],
   "outputs": []
  },
  {
   "cell_type": "code",
   "execution_count": null,
   "id": "12e29b46-885b-4bd3-8a6d-1c4fdffffaad",
   "metadata": {},
   "source": [
    "print(all_roi[all_roi['calcfind'].notna()] & all_roi['spot_mag'] == 0)"
   ],
   "outputs": []
  },
  {
   "cell_type": "code",
   "execution_count": null,
   "id": "758af5a6-00ee-4763-83e8-0eae0729265d",
   "metadata": {},
   "source": [],
   "outputs": []
  }
 ],
 "metadata": {
  "kernelspec": {
   "display_name": "Python 3 (ipykernel)",
   "language": "python",
   "name": "python3"
  },
  "language_info": {
   "codemirror_mode": {
    "name": "ipython",
    "version": 3
   },
   "file_extension": ".py",
   "mimetype": "text/x-python",
   "name": "python",
   "nbconvert_exporter": "python",
   "pygments_lexer": "ipython3",
   "version": "3.10.12"
  }
 },
 "nbformat": 4,
 "nbformat_minor": 5
}
